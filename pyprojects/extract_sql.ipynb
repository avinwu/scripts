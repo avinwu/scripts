{
 "cells": [
  {
   "cell_type": "code",
   "execution_count": 161,
   "metadata": {},
   "outputs": [],
   "source": [
    "import pandas as pd\n",
    "import inspect"
   ]
  },
  {
   "cell_type": "code",
   "execution_count": 162,
   "metadata": {},
   "outputs": [
    {
     "data": {
      "text/plain": [
       "['PROC SQL  CREATE TABLE TARGET1 SELECT FIELD1 FROM SOURCE1, SOURCE2 WHERE X=Y1 AND 1=2 QUIT; ',\n",
       " 'PROC SQL  CREATE TABLE TARGET2 SELECT FIELD2 FROM SOURCE2,  SOURCE3 WHERE X=Y2 AND 1=2 QUIT; ',\n",
       " 'PROC SQL  CREATE TABLE TARGET3 SELECT FIELD3 FROM SOURCE3 WHERE X=Y3 AND 1=2 QUIT; ',\n",
       " 'PROC SQL  CREATE TABLE TARGET4 SELECT FIELD4 FROM SOURCE4 WHERE X=Y4 AND 1=2 QUIT; ',\n",
       " 'PROC SQL  CREATE TABLE TARGET5 SELECT FIELD5 FROM SOURCE5 WHERE X=Y5 AND 1=2 QUIT; ',\n",
       " 'PROC SQL  CREATE TABLE TARGET6 SELECT FIELD6 FROM SOURCE6 WHERE X=Y6 AND 1=2 QUIT; ',\n",
       " 'PROC SQL  CREATE TABLE TARGET7 SELECT FIELD7 FROM SOURCE7 WHERE X=Y7 AND 1=2 QUIT; ']"
      ]
     },
     "execution_count": 162,
     "metadata": {},
     "output_type": "execute_result"
    }
   ],
   "source": [
    "file = open('sql.txt')\n",
    "line_ctr=0\n",
    "bNewBlock = False\n",
    "strSQL = ''\n",
    "strPrg = ''\n",
    "\n",
    "lst_line = []\n",
    "lst_sql  = []\n",
    "lst_prg  = []\n",
    "\n",
    "for line in file:\n",
    "    line_ctr = line_ctr+1\n",
    "    str_start = 'PROC SQL'\n",
    "    str_end = 'QUIT;'\n",
    "    str_prg = 'PROG_NAME'\n",
    "    len_prg = 10\n",
    "    \n",
    "    bStartLine = str_start in line\n",
    "    bEndLine   = str_end in line\n",
    "    bPrgLine   = str_prg in line\n",
    "    \n",
    "    if bPrgLine:\n",
    "        strPrg = line[len_prg:]\n",
    "\n",
    "    if bStartLine:\n",
    "        bNewBlock=True\n",
    "        nLineNo = line_ctr\n",
    "        lst_line.append(line_ctr)\n",
    "    \n",
    "    if bNewBlock: \n",
    "        #print(line_ctr,line)\n",
    "        strSQL = strSQL + line #.strip()\n",
    "    \n",
    "    if bEndLine: \n",
    "        bNewBlock=False\n",
    "        #print('********\\n',nLineNo,strSQL)\n",
    "        strSQL = strSQL\\\n",
    "                .replace(\"\\n\",' ')\\\n",
    "                .replace(\"\\t\",'')\\\n",
    "                .replace('    ',' ')\n",
    "        lst_sql.append(strSQL)\n",
    "        strSQL = ''\n",
    "        \n",
    "        strPrg = strPrg.replace(\"\\n\",' ')\n",
    "        lst_prg.append(strPrg)\n",
    "        #strPrg = ''\n",
    "        \n",
    "lst_sql"
   ]
  },
  {
   "cell_type": "code",
   "execution_count": 163,
   "metadata": {},
   "outputs": [],
   "source": [
    "lstSource = []\n",
    "lstTarget = []\n",
    "\n",
    "for strSql in lst_sql:\n",
    "    posTable  = strSql.find('TABLE')\n",
    "    posSelect = strSql.find('SELECT')\n",
    "    posFrom   = strSql.find('FROM')\n",
    "    posWhere  = strSql.find('WHERE')\n",
    "\n",
    "    strTarget = strSql[int(posTable)+5:int(posSelect)]\n",
    "    strSource = strSql[int(posFrom)+4:int(posWhere)]\n",
    "    \n",
    "    lstSource.append(strSource)\n",
    "    lstTarget.append(strTarget)"
   ]
  },
  {
   "cell_type": "code",
   "execution_count": 164,
   "metadata": {},
   "outputs": [
    {
     "data": {
      "text/plain": [
       "[' SOURCE1, SOURCE2 ',\n",
       " ' SOURCE2,  SOURCE3 ',\n",
       " ' SOURCE3 ',\n",
       " ' SOURCE4 ',\n",
       " ' SOURCE5 ',\n",
       " ' SOURCE6 ',\n",
       " ' SOURCE7 ']"
      ]
     },
     "execution_count": 164,
     "metadata": {},
     "output_type": "execute_result"
    }
   ],
   "source": [
    "lstSource"
   ]
  },
  {
   "cell_type": "code",
   "execution_count": 165,
   "metadata": {},
   "outputs": [
    {
     "data": {
      "text/plain": [
       "[' TARGET1 ',\n",
       " ' TARGET2 ',\n",
       " ' TARGET3 ',\n",
       " ' TARGET4 ',\n",
       " ' TARGET5 ',\n",
       " ' TARGET6 ',\n",
       " ' TARGET7 ']"
      ]
     },
     "execution_count": 165,
     "metadata": {},
     "output_type": "execute_result"
    }
   ],
   "source": [
    "lstTarget"
   ]
  },
  {
   "cell_type": "code",
   "execution_count": 166,
   "metadata": {},
   "outputs": [
    {
     "data": {
      "text/plain": [
       "['PROG1 ', 'PROG1 ', 'PROG1 ', 'PROG1 ', 'PROG1 ', 'PROG2 ', 'PROG2 ']"
      ]
     },
     "execution_count": 166,
     "metadata": {},
     "output_type": "execute_result"
    }
   ],
   "source": [
    "lst_prg"
   ]
  },
  {
   "cell_type": "code",
   "execution_count": 167,
   "metadata": {},
   "outputs": [
    {
     "data": {
      "text/html": [
       "<div>\n",
       "<style scoped>\n",
       "    .dataframe tbody tr th:only-of-type {\n",
       "        vertical-align: middle;\n",
       "    }\n",
       "\n",
       "    .dataframe tbody tr th {\n",
       "        vertical-align: top;\n",
       "    }\n",
       "\n",
       "    .dataframe thead th {\n",
       "        text-align: right;\n",
       "    }\n",
       "</style>\n",
       "<table border=\"1\" class=\"dataframe\">\n",
       "  <thead>\n",
       "    <tr style=\"text-align: right;\">\n",
       "      <th></th>\n",
       "      <th>ProgramName</th>\n",
       "      <th>LineNum</th>\n",
       "      <th>TargetTable</th>\n",
       "      <th>SourceTable</th>\n",
       "      <th>SQL</th>\n",
       "    </tr>\n",
       "  </thead>\n",
       "  <tbody>\n",
       "    <tr>\n",
       "      <td>0</td>\n",
       "      <td>PROG1</td>\n",
       "      <td>2</td>\n",
       "      <td>TARGET1</td>\n",
       "      <td>SOURCE1, SOURCE2</td>\n",
       "      <td>PROC SQL  CREATE TABLE TARGET1 SELECT FIELD1 F...</td>\n",
       "    </tr>\n",
       "    <tr>\n",
       "      <td>1</td>\n",
       "      <td>PROG1</td>\n",
       "      <td>14</td>\n",
       "      <td>TARGET2</td>\n",
       "      <td>SOURCE2,  SOURCE3</td>\n",
       "      <td>PROC SQL  CREATE TABLE TARGET2 SELECT FIELD2 F...</td>\n",
       "    </tr>\n",
       "    <tr>\n",
       "      <td>2</td>\n",
       "      <td>PROG1</td>\n",
       "      <td>27</td>\n",
       "      <td>TARGET3</td>\n",
       "      <td>SOURCE3</td>\n",
       "      <td>PROC SQL  CREATE TABLE TARGET3 SELECT FIELD3 F...</td>\n",
       "    </tr>\n",
       "    <tr>\n",
       "      <td>3</td>\n",
       "      <td>PROG1</td>\n",
       "      <td>39</td>\n",
       "      <td>TARGET4</td>\n",
       "      <td>SOURCE4</td>\n",
       "      <td>PROC SQL  CREATE TABLE TARGET4 SELECT FIELD4 F...</td>\n",
       "    </tr>\n",
       "    <tr>\n",
       "      <td>4</td>\n",
       "      <td>PROG1</td>\n",
       "      <td>51</td>\n",
       "      <td>TARGET5</td>\n",
       "      <td>SOURCE5</td>\n",
       "      <td>PROC SQL  CREATE TABLE TARGET5 SELECT FIELD5 F...</td>\n",
       "    </tr>\n",
       "    <tr>\n",
       "      <td>5</td>\n",
       "      <td>PROG2</td>\n",
       "      <td>64</td>\n",
       "      <td>TARGET6</td>\n",
       "      <td>SOURCE6</td>\n",
       "      <td>PROC SQL  CREATE TABLE TARGET6 SELECT FIELD6 F...</td>\n",
       "    </tr>\n",
       "    <tr>\n",
       "      <td>6</td>\n",
       "      <td>PROG2</td>\n",
       "      <td>76</td>\n",
       "      <td>TARGET7</td>\n",
       "      <td>SOURCE7</td>\n",
       "      <td>PROC SQL  CREATE TABLE TARGET7 SELECT FIELD7 F...</td>\n",
       "    </tr>\n",
       "  </tbody>\n",
       "</table>\n",
       "</div>"
      ],
      "text/plain": [
       "  ProgramName  LineNum TargetTable          SourceTable  \\\n",
       "0      PROG1         2    TARGET1     SOURCE1, SOURCE2    \n",
       "1      PROG1        14    TARGET2    SOURCE2,  SOURCE3    \n",
       "2      PROG1        27    TARGET3              SOURCE3    \n",
       "3      PROG1        39    TARGET4              SOURCE4    \n",
       "4      PROG1        51    TARGET5              SOURCE5    \n",
       "5      PROG2        64    TARGET6              SOURCE6    \n",
       "6      PROG2        76    TARGET7              SOURCE7    \n",
       "\n",
       "                                                 SQL  \n",
       "0  PROC SQL  CREATE TABLE TARGET1 SELECT FIELD1 F...  \n",
       "1  PROC SQL  CREATE TABLE TARGET2 SELECT FIELD2 F...  \n",
       "2  PROC SQL  CREATE TABLE TARGET3 SELECT FIELD3 F...  \n",
       "3  PROC SQL  CREATE TABLE TARGET4 SELECT FIELD4 F...  \n",
       "4  PROC SQL  CREATE TABLE TARGET5 SELECT FIELD5 F...  \n",
       "5  PROC SQL  CREATE TABLE TARGET6 SELECT FIELD6 F...  \n",
       "6  PROC SQL  CREATE TABLE TARGET7 SELECT FIELD7 F...  "
      ]
     },
     "execution_count": 167,
     "metadata": {},
     "output_type": "execute_result"
    }
   ],
   "source": [
    "df = pd.DataFrame(list(zip(lst_prg, lst_line, lstTarget, lstSource, lst_sql)),\n",
    "                 columns=['ProgramName', 'LineNum', 'TargetTable', 'SourceTable', 'SQL'])\n",
    "df.head(10)"
   ]
  },
  {
   "cell_type": "code",
   "execution_count": 168,
   "metadata": {},
   "outputs": [],
   "source": [
    "df.to_csv('result.csv', index=False)"
   ]
  },
  {
   "cell_type": "markdown",
   "metadata": {},
   "source": [
    "## Misc Testing"
   ]
  },
  {
   "cell_type": "code",
   "execution_count": 169,
   "metadata": {},
   "outputs": [
    {
     "data": {
      "text/plain": [
       "'PROGRAM_1'"
      ]
     },
     "execution_count": 169,
     "metadata": {},
     "output_type": "execute_result"
    }
   ],
   "source": [
    "str = 'PROG_NAME=PROGRAM_1'\n",
    "str[10:]"
   ]
  }
 ],
 "metadata": {
  "kernelspec": {
   "display_name": "Python 3",
   "language": "python",
   "name": "python3"
  },
  "language_info": {
   "codemirror_mode": {
    "name": "ipython",
    "version": 3
   },
   "file_extension": ".py",
   "mimetype": "text/x-python",
   "name": "python",
   "nbconvert_exporter": "python",
   "pygments_lexer": "ipython3",
   "version": "3.7.4"
  }
 },
 "nbformat": 4,
 "nbformat_minor": 2
}

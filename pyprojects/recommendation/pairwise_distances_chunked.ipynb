{
 "cells": [
  {
   "cell_type": "code",
   "execution_count": 1,
   "metadata": {},
   "outputs": [],
   "source": [
    "import numpy as np\n",
    "from sklearn.metrics import pairwise_distances_chunked"
   ]
  },
  {
   "cell_type": "code",
   "execution_count": 19,
   "metadata": {},
   "outputs": [
    {
     "name": "stdout",
     "output_type": "stream",
     "text": [
      "[[0.5488135  0.71518937 0.60276338]\n",
      " [0.54488318 0.4236548  0.64589411]\n",
      " [0.43758721 0.891773   0.96366276]\n",
      " [0.38344152 0.79172504 0.52889492]\n",
      " [0.56804456 0.92559664 0.07103606]]\n"
     ]
    }
   ],
   "source": [
    "# Without reduce_func:\n",
    "\n",
    "X = np.random.RandomState(0).rand(5, 3)\n",
    "print(X)"
   ]
  },
  {
   "cell_type": "code",
   "execution_count": 20,
   "metadata": {},
   "outputs": [
    {
     "data": {
      "text/plain": [
       "array([[0.        , 0.29473397, 0.41689499, 0.19662693, 0.57216693],\n",
       "       [0.29473397, 0.        , 0.57586803, 0.41860234, 0.76350759],\n",
       "       [0.41689499, 0.57586803, 0.        , 0.44940452, 0.90274337],\n",
       "       [0.19662693, 0.41860234, 0.44940452, 0.        , 0.51150232],\n",
       "       [0.57216693, 0.76350759, 0.90274337, 0.51150232, 0.        ]])"
      ]
     },
     "execution_count": 20,
     "metadata": {},
     "output_type": "execute_result"
    }
   ],
   "source": [
    "D_chunk = next(pairwise_distances_chunked(X))\n",
    "D_chunk"
   ]
  },
  {
   "cell_type": "code",
   "execution_count": 22,
   "metadata": {},
   "outputs": [
    {
     "data": {
      "text/plain": [
       "array([0.03932539, 0.        , 0.        , 0.03932539, 0.        ])"
      ]
     },
     "execution_count": 22,
     "metadata": {},
     "output_type": "execute_result"
    }
   ],
   "source": [
    "# Retrieve all neighbors and average distance within radius r:\n",
    "\n",
    "r = .2\n",
    "def reduce_func(D_chunk, start):\n",
    "    neigh = [np.flatnonzero(d < r) for d in D_chunk]\n",
    "    avg_dist = (D_chunk * (D_chunk < r)).mean(axis=1)\n",
    "    ret = 10\n",
    "    return neigh, avg_dist\n",
    "\n",
    "gen = pairwise_distances_chunked(X, reduce_func=reduce_func)\n",
    "neigh, avg_dist = next(gen)\n",
    "neigh\n",
    "\n",
    "avg_dist"
   ]
  },
  {
   "cell_type": "code",
   "execution_count": 5,
   "metadata": {},
   "outputs": [
    {
     "data": {
      "text/plain": [
       "[array([0], dtype=int64),\n",
       " array([1], dtype=int64),\n",
       " array([2], dtype=int64),\n",
       " array([3], dtype=int64),\n",
       " array([4], dtype=int64)]"
      ]
     },
     "execution_count": 5,
     "metadata": {},
     "output_type": "execute_result"
    }
   ],
   "source": [
    "# Where r is defined per sample, we need to make use of start:\n",
    "\n",
    "r = [.2, .4, .4, .3, .1]\n",
    "def reduce_func(D_chunk, start):\n",
    "    neigh = [np.flatnonzero(d < r[i])\n",
    "             for i, d in enumerate(D_chunk, start)]\n",
    "    return neigh\n",
    "\n",
    "neigh = next(pairwise_distances_chunked(X, reduce_func=reduce_func))\n",
    "neigh"
   ]
  },
  {
   "cell_type": "code",
   "execution_count": 6,
   "metadata": {},
   "outputs": [
    {
     "name": "stderr",
     "output_type": "stream",
     "text": [
      "C:\\Users\\u004637\\AppData\\Local\\Continuum\\anaconda3\\lib\\site-packages\\sklearn\\utils\\__init__.py:603: UserWarning: Could not adhere to working_memory config. Currently 0MiB, 1MiB required.\n",
      "  (working_memory, np.ceil(row_bytes * 2 ** -20)))\n"
     ]
    },
    {
     "data": {
      "text/plain": [
       "[array([0], dtype=int64)]"
      ]
     },
     "execution_count": 6,
     "metadata": {},
     "output_type": "execute_result"
    }
   ],
   "source": [
    "# Force row-by-row generation by reducing working_memory:\n",
    "\n",
    "gen = pairwise_distances_chunked(X, reduce_func=reduce_func,\n",
    "                                 working_memory=0)\n",
    "next(gen)"
   ]
  },
  {
   "cell_type": "code",
   "execution_count": 7,
   "metadata": {},
   "outputs": [
    {
     "data": {
      "text/plain": [
       "[array([1], dtype=int64)]"
      ]
     },
     "execution_count": 7,
     "metadata": {},
     "output_type": "execute_result"
    }
   ],
   "source": [
    "next(gen)"
   ]
  }
 ],
 "metadata": {
  "kernelspec": {
   "display_name": "Python 3",
   "language": "python",
   "name": "python3"
  },
  "language_info": {
   "codemirror_mode": {
    "name": "ipython",
    "version": 3
   },
   "file_extension": ".py",
   "mimetype": "text/x-python",
   "name": "python",
   "nbconvert_exporter": "python",
   "pygments_lexer": "ipython3",
   "version": "3.7.1"
  }
 },
 "nbformat": 4,
 "nbformat_minor": 2
}

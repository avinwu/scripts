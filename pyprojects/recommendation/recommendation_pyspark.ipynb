{
 "cells": [
  {
   "cell_type": "markdown",
   "metadata": {},
   "source": [
    "<div class=\"alert alert-block alert-success\">\n",
    "<font color=blue>\n",
    "\n",
    "## Recommendation Engine - PySpark, MovieLens Dataset\n",
    "\n",
    "#### 0. Overview\n",
    "\n",
    "Build a Recommender engine using Python,Spark and ALS (Alternating Lest Square) Matrix Factorization algorithm.\n",
    "\n",
    "#### 1. Data Collection\n",
    "- Import and load the dataset\n",
    "- Use API if needed to collect data\n",
    "\n",
    "#### 2. Data Exploration & Visualization\n",
    "- Categorical and Contunuous variables : Identify, Descriptive Statistics\n",
    "- Check missing values\n",
    "- Draw visualizations\n",
    "- Outlier detection\n",
    "- Relationship between Dependent and Independent variables.\n",
    "- Relationship among Dependent variables (Correlation matrix).\n",
    "\n",
    "#### 3. Pre-processing\n",
    "- Detect and remove null records.\n",
    "- Detect and remove empty strings.\n",
    "- Categorical to Numerical Variable conversion (Integer Encoding, One-hot encoding)\n",
    "- Outlier Removal\n",
    "- Stratified sampling\n",
    "- Split data into train/test\n",
    "- Stopword removal, Stemming, Lemmatization (NLP)\n",
    "\n",
    "#### 4. Feature Engineering\n",
    "- Feature Engineering (Create new features from existing variables)\n",
    "- Feature Selection - Define Dependent Variable (y) and Independent Variable (x)\n",
    "- Vectorization (TF-IDF)\n",
    "\n",
    "#### 5. Model Building\n",
    "- Import - Import the Model.\n",
    "- Instantiate - Create instance of the Model.\n",
    "- Fit - Fit the model with training data.\n",
    "- Predict - Predict Model with test data.\n",
    "\n",
    "#### 6. Model Evaluation\n",
    "- Confusion Matrix\n",
    "- Classification Report\n",
    "- Accuracy Score\n",
    "- AUC-ROC Curve\n",
    "\n",
    "#### 7. Model Prediction with new Data\n",
    "- Feed new data to the model and check prediction.\n",
    "\n",
    "#### 8. Conclusion and Recommendations\n",
    "- (Describe the conclusion and recommendation based on model analysis.)\n",
    "    \n",
    "</font>\n",
    "</div>"
   ]
  },
  {
   "cell_type": "markdown",
   "metadata": {},
   "source": [
    "<div class=\"alert alert-block alert-success\">\n",
    "<font color=blue>\n",
    "\n",
    "### 0. Overview\n",
    "\n",
    "</font>\n",
    "</div>"
   ]
  },
  {
   "cell_type": "markdown",
   "metadata": {},
   "source": [
    "- Consumer Banking Marketing campaigns are aimed at reaching out customers for product marketing. \n",
    "- An efficient marketing strategy is to, reach out specific customers with better chances of response.\n",
    "- Objective of this model is to come up with various Customer features who are likely to respond to this campaign.\n",
    "- Historical data is taken into account for this analysis, where existing customers responded to the campaign.\n",
    "- Which customers are more likely to respond to bank’s marketing campaigns?"
   ]
  },
  {
   "cell_type": "markdown",
   "metadata": {},
   "source": [
    "<div class=\"alert alert-block alert-success\">\n",
    "<font color=blue>\n",
    "\n",
    "### 1. Data Collection\n",
    "\n",
    "</font>\n",
    "</div>"
   ]
  },
  {
   "cell_type": "markdown",
   "metadata": {},
   "source": [
    "Data file downloaded from MovieLens website - https://grouplens.org/datasets/movielens/100k/\n",
    "\n",
    "File Name - u.data\n",
    "\n",
    "Below are some information about the dataset as mentioned int the source website:\n",
    "* The dataset consists of 100,000 ratings (1-5) from 943 users on 1682 movies. \n",
    "* Each user has rated at least 20 movies. \n",
    "* Simple demographic info for the users (age, gender, occupation, zip)\n",
    "* The full u data set, 100000 ratings by 943 users on 1682 items.\n",
    "* Each user has rated at least 20 movies.  \n",
    "* Users and items are numbered consecutively from 1.\n",
    "* The data is randomly ordered.\n",
    "* This is a tab separated list of \"user id | item id | rating | timestamp.\"\n",
    "* The timestamps are unix seconds since 1/1/1970 UTC"
   ]
  },
  {
   "cell_type": "code",
   "execution_count": 13,
   "metadata": {},
   "outputs": [],
   "source": [
    "# Import Required Libraries\n",
    "from pyspark.sql import SparkSession   # Establish Spark Session\n",
    "from pyspark.ml.recommendation import ALS  # Recommendation Algorithm to use\n",
    "from pyspark.ml.evaluation import RegressionEvaluator  # Evaluate Model"
   ]
  },
  {
   "cell_type": "code",
   "execution_count": 14,
   "metadata": {},
   "outputs": [],
   "source": [
    "spark = SparkSession.builder.appName('Recommendation').getOrCreate()"
   ]
  },
  {
   "cell_type": "markdown",
   "metadata": {},
   "source": [
    "Since dataset is a delimited file lets read the file to ensure its downloaded at proper location for us to use."
   ]
  },
  {
   "cell_type": "code",
   "execution_count": 18,
   "metadata": {},
   "outputs": [],
   "source": [
    "#df = spark.read.load(\"/home/pabhijit/data/u.data\",format=\"csv\", sep=\"\\t\", inferSchema=\"True\", header=\"False\")\n",
    "df = spark.read.csv(\"/home/pabhijit/data/movielens_ratings.csv\",inferSchema=\"True\", header=\"True\")"
   ]
  },
  {
   "cell_type": "code",
   "execution_count": 21,
   "metadata": {},
   "outputs": [
    {
     "name": "stdout",
     "output_type": "stream",
     "text": [
      "+-------+------+------+\n",
      "|movieId|rating|userId|\n",
      "+-------+------+------+\n",
      "|      2|   3.0|     0|\n",
      "|      3|   1.0|     0|\n",
      "|      5|   2.0|     0|\n",
      "|      9|   4.0|     0|\n",
      "|     11|   1.0|     0|\n",
      "|     12|   2.0|     0|\n",
      "|     15|   1.0|     0|\n",
      "|     17|   1.0|     0|\n",
      "|     19|   1.0|     0|\n",
      "|     21|   1.0|     0|\n",
      "|     23|   1.0|     0|\n",
      "|     26|   3.0|     0|\n",
      "|     27|   1.0|     0|\n",
      "|     28|   1.0|     0|\n",
      "|     29|   1.0|     0|\n",
      "|     30|   1.0|     0|\n",
      "|     31|   1.0|     0|\n",
      "|     34|   1.0|     0|\n",
      "|     37|   1.0|     0|\n",
      "|     41|   2.0|     0|\n",
      "+-------+------+------+\n",
      "only showing top 20 rows\n",
      "\n"
     ]
    }
   ],
   "source": [
    "#df.describe().show()\n",
    "df.show()"
   ]
  },
  {
   "cell_type": "code",
   "execution_count": 24,
   "metadata": {},
   "outputs": [],
   "source": [
    "training, test = df.randomSplit([0.8,0.2])"
   ]
  },
  {
   "cell_type": "code",
   "execution_count": 25,
   "metadata": {},
   "outputs": [],
   "source": [
    "als = ALS(maxIter=5)"
   ]
  },
  {
   "cell_type": "markdown",
   "metadata": {},
   "source": [
    "<div class=\"alert alert-block alert-success\">\n",
    "<font color=blue>\n",
    "\n",
    "### 2. Data Exploration & Visualization\n",
    "\n",
    "</font>\n",
    "</div>"
   ]
  },
  {
   "cell_type": "markdown",
   "metadata": {},
   "source": [
    "What we observed is the dataset doesnot contain a header row. So we will add headers to identify columns in subsequent operations."
   ]
  },
  {
   "cell_type": "code",
   "execution_count": 24,
   "metadata": {},
   "outputs": [
    {
     "data": {
      "text/html": [
       "<div>\n",
       "<style scoped>\n",
       "    .dataframe tbody tr th:only-of-type {\n",
       "        vertical-align: middle;\n",
       "    }\n",
       "\n",
       "    .dataframe tbody tr th {\n",
       "        vertical-align: top;\n",
       "    }\n",
       "\n",
       "    .dataframe thead th {\n",
       "        text-align: right;\n",
       "    }\n",
       "</style>\n",
       "<table border=\"1\" class=\"dataframe\">\n",
       "  <thead>\n",
       "    <tr style=\"text-align: right;\">\n",
       "      <th></th>\n",
       "      <th>userid</th>\n",
       "      <th>itemid</th>\n",
       "      <th>rating</th>\n",
       "      <th>timestamp</th>\n",
       "    </tr>\n",
       "  </thead>\n",
       "  <tbody>\n",
       "    <tr>\n",
       "      <th>0</th>\n",
       "      <td>196</td>\n",
       "      <td>242</td>\n",
       "      <td>3</td>\n",
       "      <td>881250949</td>\n",
       "    </tr>\n",
       "    <tr>\n",
       "      <th>1</th>\n",
       "      <td>186</td>\n",
       "      <td>302</td>\n",
       "      <td>3</td>\n",
       "      <td>891717742</td>\n",
       "    </tr>\n",
       "    <tr>\n",
       "      <th>2</th>\n",
       "      <td>22</td>\n",
       "      <td>377</td>\n",
       "      <td>1</td>\n",
       "      <td>878887116</td>\n",
       "    </tr>\n",
       "    <tr>\n",
       "      <th>3</th>\n",
       "      <td>244</td>\n",
       "      <td>51</td>\n",
       "      <td>2</td>\n",
       "      <td>880606923</td>\n",
       "    </tr>\n",
       "    <tr>\n",
       "      <th>4</th>\n",
       "      <td>166</td>\n",
       "      <td>346</td>\n",
       "      <td>1</td>\n",
       "      <td>886397596</td>\n",
       "    </tr>\n",
       "  </tbody>\n",
       "</table>\n",
       "</div>"
      ],
      "text/plain": [
       "   userid  itemid  rating  timestamp\n",
       "0     196     242       3  881250949\n",
       "1     186     302       3  891717742\n",
       "2      22     377       1  878887116\n",
       "3     244      51       2  880606923\n",
       "4     166     346       1  886397596"
      ]
     },
     "execution_count": 24,
     "metadata": {},
     "output_type": "execute_result"
    }
   ],
   "source": [
    "df_data = pd.read_csv('~/data/u.data',delimiter='\\t',header=None,names=['userid','itemid','rating','timestamp'])\n",
    "df_data.head()"
   ]
  },
  {
   "cell_type": "markdown",
   "metadata": {},
   "source": [
    "Timestamp column is not needed for our analysis, so we will exclude that column and get the other 3 columns to our dataframe."
   ]
  },
  {
   "cell_type": "code",
   "execution_count": 25,
   "metadata": {},
   "outputs": [
    {
     "data": {
      "text/html": [
       "<div>\n",
       "<style scoped>\n",
       "    .dataframe tbody tr th:only-of-type {\n",
       "        vertical-align: middle;\n",
       "    }\n",
       "\n",
       "    .dataframe tbody tr th {\n",
       "        vertical-align: top;\n",
       "    }\n",
       "\n",
       "    .dataframe thead th {\n",
       "        text-align: right;\n",
       "    }\n",
       "</style>\n",
       "<table border=\"1\" class=\"dataframe\">\n",
       "  <thead>\n",
       "    <tr style=\"text-align: right;\">\n",
       "      <th></th>\n",
       "      <th>userid</th>\n",
       "      <th>itemid</th>\n",
       "      <th>rating</th>\n",
       "    </tr>\n",
       "  </thead>\n",
       "  <tbody>\n",
       "    <tr>\n",
       "      <th>0</th>\n",
       "      <td>196</td>\n",
       "      <td>242</td>\n",
       "      <td>3</td>\n",
       "    </tr>\n",
       "    <tr>\n",
       "      <th>1</th>\n",
       "      <td>186</td>\n",
       "      <td>302</td>\n",
       "      <td>3</td>\n",
       "    </tr>\n",
       "    <tr>\n",
       "      <th>2</th>\n",
       "      <td>22</td>\n",
       "      <td>377</td>\n",
       "      <td>1</td>\n",
       "    </tr>\n",
       "    <tr>\n",
       "      <th>3</th>\n",
       "      <td>244</td>\n",
       "      <td>51</td>\n",
       "      <td>2</td>\n",
       "    </tr>\n",
       "    <tr>\n",
       "      <th>4</th>\n",
       "      <td>166</td>\n",
       "      <td>346</td>\n",
       "      <td>1</td>\n",
       "    </tr>\n",
       "  </tbody>\n",
       "</table>\n",
       "</div>"
      ],
      "text/plain": [
       "   userid  itemid  rating\n",
       "0     196     242       3\n",
       "1     186     302       3\n",
       "2      22     377       1\n",
       "3     244      51       2\n",
       "4     166     346       1"
      ]
     },
     "execution_count": 25,
     "metadata": {},
     "output_type": "execute_result"
    }
   ],
   "source": [
    "df_data = df_data.iloc[:,[0,1,2]]\n",
    "df_data.head()"
   ]
  },
  {
   "cell_type": "code",
   "execution_count": 26,
   "metadata": {},
   "outputs": [
    {
     "data": {
      "text/plain": [
       "(100000, 3)"
      ]
     },
     "execution_count": 26,
     "metadata": {},
     "output_type": "execute_result"
    }
   ],
   "source": [
    "df_data.shape"
   ]
  },
  {
   "cell_type": "markdown",
   "metadata": {},
   "source": [
    "There are 100,000 records and 3 input variables. All are continuous variables."
   ]
  },
  {
   "cell_type": "markdown",
   "metadata": {},
   "source": [
    "### 2.1 : Descriptive Statistics - Numerical Variables"
   ]
  },
  {
   "cell_type": "markdown",
   "metadata": {},
   "source": [
    "Since the UserID and ItemID variables are Identifier, analyzing descriptive statistics for IDs wont add any value. So we will skip this step."
   ]
  },
  {
   "cell_type": "markdown",
   "metadata": {},
   "source": [
    "### 2.2 : Descriptive Statistics - Categorical Variables"
   ]
  },
  {
   "cell_type": "markdown",
   "metadata": {},
   "source": [
    "Column \"rating\" though its a continuous variable, its logically a category. Hence we may be interested in knowing the distribution of various kinds of ratings."
   ]
  },
  {
   "cell_type": "code",
   "execution_count": 28,
   "metadata": {},
   "outputs": [
    {
     "data": {
      "image/png": "[encoded data removed]",
      "text/plain": [
       "<Figure size 432x288 with 1 Axes>"
      ]
     },
     "metadata": {
      "needs_background": "light"
     },
     "output_type": "display_data"
    }
   ],
   "source": [
    "sns.countplot(x=\"rating\", data=df_data);"
   ]
  },
  {
   "cell_type": "markdown",
   "metadata": {},
   "source": [
    "Looks like around 60% movies are rated 3 or 4."
   ]
  },
  {
   "cell_type": "markdown",
   "metadata": {},
   "source": [
    "<div class=\"alert alert-block alert-success\">\n",
    "<font color=blue>\n",
    "\n",
    "### 3. Pre-processing\n",
    "\n",
    "</font>\n",
    "</div>"
   ]
  },
  {
   "cell_type": "markdown",
   "metadata": {},
   "source": [
    "### 3.1 : Missing Values Identification"
   ]
  },
  {
   "cell_type": "code",
   "execution_count": 29,
   "metadata": {},
   "outputs": [
    {
     "data": {
      "text/html": [
       "<div>\n",
       "<style scoped>\n",
       "    .dataframe tbody tr th:only-of-type {\n",
       "        vertical-align: middle;\n",
       "    }\n",
       "\n",
       "    .dataframe tbody tr th {\n",
       "        vertical-align: top;\n",
       "    }\n",
       "\n",
       "    .dataframe thead th {\n",
       "        text-align: right;\n",
       "    }\n",
       "</style>\n",
       "<table border=\"1\" class=\"dataframe\">\n",
       "  <thead>\n",
       "    <tr style=\"text-align: right;\">\n",
       "      <th></th>\n",
       "      <th>count_total</th>\n",
       "      <th>count_missing</th>\n",
       "      <th>percent_missing</th>\n",
       "    </tr>\n",
       "  </thead>\n",
       "  <tbody>\n",
       "    <tr>\n",
       "      <th>userid</th>\n",
       "      <td>100000</td>\n",
       "      <td>0</td>\n",
       "      <td>0.0</td>\n",
       "    </tr>\n",
       "    <tr>\n",
       "      <th>itemid</th>\n",
       "      <td>100000</td>\n",
       "      <td>0</td>\n",
       "      <td>0.0</td>\n",
       "    </tr>\n",
       "    <tr>\n",
       "      <th>rating</th>\n",
       "      <td>100000</td>\n",
       "      <td>0</td>\n",
       "      <td>0.0</td>\n",
       "    </tr>\n",
       "  </tbody>\n",
       "</table>\n",
       "</div>"
      ],
      "text/plain": [
       "        count_total  count_missing  percent_missing\n",
       "userid       100000              0              0.0\n",
       "itemid       100000              0              0.0\n",
       "rating       100000              0              0.0"
      ]
     },
     "execution_count": 29,
     "metadata": {},
     "output_type": "execute_result"
    }
   ],
   "source": [
    "# TOTAL count (non-null values)\n",
    "sr_count_total = df_data.count()\n",
    "\n",
    "# MISSING COUNT\n",
    "sr_count_missing = df_data.isnull().sum()\n",
    "\n",
    "# MISSING PERCENT\n",
    "sr_percent_missing = round(df_data.isnull().sum() * 100 / len(df_data),2)\n",
    "\n",
    "# Total count (non-null values)\n",
    "df_missing_value = pd.DataFrame({'count_total': sr_count_total,\n",
    "                                 'count_missing': sr_count_missing,\n",
    "                                 'percent_missing': sr_percent_missing})\n",
    "\n",
    "# Sort by the field \"percent_missing\" descending\n",
    "df_missing_value.sort_values('percent_missing', ascending=False, inplace=True)\n",
    "\n",
    "# print the dataframe\n",
    "df_missing_value"
   ]
  },
  {
   "cell_type": "markdown",
   "metadata": {},
   "source": [
    "NO MISSING VALUES IN THE DATASET."
   ]
  },
  {
   "cell_type": "markdown",
   "metadata": {},
   "source": [
    "### 3.2 : Sparsity"
   ]
  },
  {
   "cell_type": "markdown",
   "metadata": {},
   "source": [
    "* Sparsity provides a measure of how empty a matrix is (or what percentage of the matrix is empty).\n",
    "* Calculate data sparsity using below sparsity formula, and then we will assess whether further preparation is needed in order to adequately prepare it for ALS.\n",
    "\n",
    "    Sparsity = (Number of Ratings in Matrix) / (Number of Users) X (Number of Movies)\n"
   ]
  },
  {
   "cell_type": "markdown",
   "metadata": {},
   "source": [
    "<div class=\"alert alert-block alert-success\">\n",
    "<font color=blue>\n",
    "\n",
    "### 4. Feature Engineering\n",
    "\n",
    "</font>\n",
    "</div>"
   ]
  },
  {
   "cell_type": "markdown",
   "metadata": {},
   "source": [
    "#### Define Dependent Variable (y) and Independent Variable (x)"
   ]
  },
  {
   "cell_type": "code",
   "execution_count": 20,
   "metadata": {},
   "outputs": [],
   "source": [
    "y = df_data['y'] # We want to predict the response \n",
    "x = df_data.drop('y',axis=1) #Excluding \"y\", rest all are indepdent variables"
   ]
  },
  {
   "cell_type": "markdown",
   "metadata": {},
   "source": [
    "<div class=\"alert alert-block alert-success\">\n",
    "<font color=blue>\n",
    "\n",
    "### 5. Model Building\n",
    "\n",
    "</font>\n",
    "</div>"
   ]
  },
  {
   "cell_type": "markdown",
   "metadata": {},
   "source": [
    "- Split data into Train/Test.\n",
    "\n",
    "- Compare scores for Various Classification Algorithms:\n",
    "    - Carry out K-Fold Cross validation with training data.\n",
    "    - For each fold determine cross validation scores.\n",
    "    - Finally get the mean score for each algorithm.\n",
    "    - Pick the best performing algorithm.\n",
    "\n",
    "- Build Model based on the best performing algorithm."
   ]
  },
  {
   "cell_type": "markdown",
   "metadata": {},
   "source": [
    "### 5.2 : Split into Train & Test data subsets"
   ]
  },
  {
   "cell_type": "markdown",
   "metadata": {},
   "source": [
    "#### 5.2.1 : Random Split"
   ]
  },
  {
   "cell_type": "code",
   "execution_count": 21,
   "metadata": {},
   "outputs": [],
   "source": [
    "from sklearn.model_selection import train_test_split;"
   ]
  },
  {
   "cell_type": "code",
   "execution_count": 83,
   "metadata": {},
   "outputs": [],
   "source": [
    "# Reference - https://towardsdatascience.com/train-validation-and-test-sets-72cb40cba9e7\n",
    "# test_size=0.2 => split data into train/test in 70:30 ratio.\n",
    "# random_state=7 => it will take the same sample every time.\n",
    "\n",
    "test_size= 0.20\n",
    "seed = 6\n",
    "\n",
    "x_train, x_test, y_train, y_test = train_test_split(x,y,test_size=test_size,random_state=seed)"
   ]
  },
  {
   "cell_type": "code",
   "execution_count": 84,
   "metadata": {},
   "outputs": [
    {
     "name": "stdout",
     "output_type": "stream",
     "text": [
      "0    31963\n",
      "1     4205\n",
      "Name: y, dtype: int64\n",
      "0    7959\n",
      "1    1084\n",
      "Name: y, dtype: int64\n"
     ]
    }
   ],
   "source": [
    "print(y_train.value_counts())\n",
    "print(y_test.value_counts())"
   ]
  },
  {
   "cell_type": "markdown",
   "metadata": {},
   "source": [
    "#### 5.2.2 : Stratified Split (T B D)"
   ]
  },
  {
   "cell_type": "code",
   "execution_count": 85,
   "metadata": {},
   "outputs": [
    {
     "name": "stdout",
     "output_type": "stream",
     "text": [
      "0    31937\n",
      "1     4231\n",
      "Name: y, dtype: int64\n",
      "0    7985\n",
      "1    1058\n",
      "Name: y, dtype: int64\n"
     ]
    }
   ],
   "source": [
    "x_train, x_test, y_train, y_test = train_test_split(x,y,test_size=test_size,random_state=seed,stratify=y)\n",
    "print(y_train.value_counts())\n",
    "print(y_test.value_counts())"
   ]
  },
  {
   "cell_type": "code",
   "execution_count": 52,
   "metadata": {},
   "outputs": [],
   "source": [
    "from sklearn.model_selection import StratifiedShuffleSplit"
   ]
  },
  {
   "cell_type": "code",
   "execution_count": 62,
   "metadata": {},
   "outputs": [
    {
     "name": "stdout",
     "output_type": "stream",
     "text": [
      "StratifiedShuffleSplit(n_splits=1, random_state=7, test_size=0.2,\n",
      "            train_size=None)\n",
      "TRAIN: [32167 31569  4404 ... 26438  2425 34167] TEST: [18653 10665  9213 ...  5082 27501 30515]\n"
     ]
    }
   ],
   "source": [
    "test_size= 0.20\n",
    "seed = 7\n",
    "n_splits = 1\n",
    "\n",
    "sss = StratifiedShuffleSplit(n_splits=n_splits, test_size=test_size, random_state=seed)\n",
    "sss.get_n_splits(x, y)\n",
    "\n",
    "print(sss)       \n",
    "\n",
    "for train_index, test_index in sss.split(x, y):\n",
    "   print(\"TRAIN:\", train_index, \"TEST:\", test_index)\n",
    "   #x_train, x_test = x[train_index], x[test_index]\n",
    "   #y_train, y_test = y[train_index], y[test_index]"
   ]
  },
  {
   "cell_type": "code",
   "execution_count": 66,
   "metadata": {},
   "outputs": [
    {
     "name": "stdout",
     "output_type": "stream",
     "text": [
      "age                      27\n",
      "default                   0\n",
      "balance                 439\n",
      "housing                   1\n",
      "loan                      0\n",
      "day                      15\n",
      "month                     4\n",
      "duration               1038\n",
      "campaign                  2\n",
      "pdays                    -1\n",
      "previous                  0\n",
      "job_admin.                0\n",
      "job_blue-collar           0\n",
      "job_entrepreneur          0\n",
      "job_housemaid             0\n",
      "job_management            0\n",
      "job_retired               0\n",
      "job_self-employed         0\n",
      "job_services              0\n",
      "job_student               0\n",
      "job_technician            1\n",
      "job_unemployed            0\n",
      "job_unknown               0\n",
      "marital_divorced          0\n",
      "marital_married           0\n",
      "marital_single            1\n",
      "education_primary         0\n",
      "education_secondary       1\n",
      "education_tertiary        0\n",
      "education_unknown         0\n",
      "contact_cellular          1\n",
      "contact_telephone         0\n",
      "contact_unknown           0\n",
      "poutcome_failure          0\n",
      "poutcome_other            0\n",
      "poutcome_success          0\n",
      "poutcome_unknown          1\n",
      "Name: 32167, dtype: int64\n",
      "1\n"
     ]
    }
   ],
   "source": [
    "print(x.iloc[32167])\n",
    "print(y.iloc[32167])"
   ]
  },
  {
   "cell_type": "markdown",
   "metadata": {},
   "source": [
    "### 5.3 : Compare Various Classification Algorithms"
   ]
  },
  {
   "cell_type": "code",
   "execution_count": 68,
   "metadata": {},
   "outputs": [],
   "source": [
    "from sklearn.model_selection import KFold\n",
    "from sklearn.model_selection import cross_val_score"
   ]
  },
  {
   "cell_type": "code",
   "execution_count": 69,
   "metadata": {},
   "outputs": [],
   "source": [
    "from sklearn.linear_model import LogisticRegression;\n",
    "from sklearn.neighbors import KNeighborsClassifier\n",
    "from sklearn.tree import DecisionTreeClassifier\n",
    "from sklearn.naive_bayes import GaussianNB"
   ]
  },
  {
   "cell_type": "code",
   "execution_count": 70,
   "metadata": {},
   "outputs": [],
   "source": [
    "models = []\n",
    "models.append(('LR', LogisticRegression()))\n",
    "models.append(('KNN', KNeighborsClassifier()))\n",
    "models.append(('CART', DecisionTreeClassifier()))\n",
    "models.append(('NB', GaussianNB()))"
   ]
  },
  {
   "cell_type": "code",
   "execution_count": 74,
   "metadata": {},
   "outputs": [
    {
     "name": "stdout",
     "output_type": "stream",
     "text": [
      "LR: 0.898778 (0.006125)\n",
      "KNN: 0.881083 (0.005629)\n",
      "CART: 0.875332 (0.007405)\n",
      "NB: 0.827666 (0.005719)\n"
     ]
    }
   ],
   "source": [
    "results_c = []\n",
    "names_c = []\n",
    "\n",
    "for name, model in models:\n",
    "    # define how to split off validation data ('kfold' how many folds)\n",
    "    kfold = KFold(n_splits=10, random_state=seed)    \n",
    "    \n",
    "    # train the model\n",
    "    cv_results = cross_val_score(model, x_train, y_train, cv=kfold, scoring='accuracy')    \n",
    "    results_c.append(cv_results)\n",
    "    \n",
    "    names_c.append(name)\n",
    "    \n",
    "    msg = \"%s: %f (%f)\" % (name, cv_results.mean(), cv_results.std())\n",
    "    \n",
    "    print(msg)"
   ]
  },
  {
   "cell_type": "markdown",
   "metadata": {},
   "source": [
    "Logistic regression algorithm has the best accuracy i.e 89% among all the classifiers evaluated above."
   ]
  },
  {
   "cell_type": "markdown",
   "metadata": {},
   "source": [
    "### 5.3 : Create Model"
   ]
  },
  {
   "cell_type": "markdown",
   "metadata": {},
   "source": [
    "- Define and instantiate Logistic Regression Model.\n",
    "- Fit the model with training data.\n",
    "- Evaluate the model with test data."
   ]
  },
  {
   "cell_type": "code",
   "execution_count": 77,
   "metadata": {},
   "outputs": [],
   "source": [
    "# create an instance of logistic regression model\n",
    "log_model = LogisticRegression()\n",
    "\n",
    "# Fit model with training data\n",
    "log_model.fit(x_train,y_train)\n",
    "\n",
    "# Make prediction with test data as input. Output will be 1/0\n",
    "y_predicted = log_model.predict(x_test)"
   ]
  },
  {
   "cell_type": "markdown",
   "metadata": {},
   "source": [
    "<div class=\"alert alert-block alert-success\">\n",
    "<font color=blue>\n",
    "\n",
    "### 6. Model Evaluation\n",
    "\n",
    "</font>\n",
    "</div>"
   ]
  },
  {
   "cell_type": "code",
   "execution_count": 108,
   "metadata": {},
   "outputs": [],
   "source": [
    "from sklearn.metrics import classification_report\n",
    "from sklearn.metrics import confusion_matrix\n",
    "from sklearn.metrics import accuracy_score,roc_curve, auc\n",
    "\n",
    "import matplotlib.pyplot as plt\n",
    "import seaborn as sns\n",
    "import numpy as np"
   ]
  },
  {
   "cell_type": "markdown",
   "metadata": {},
   "source": [
    "### 6.1 : Accuracy Score"
   ]
  },
  {
   "cell_type": "code",
   "execution_count": 111,
   "metadata": {},
   "outputs": [
    {
     "data": {
      "text/plain": [
       "0.9051199823067566"
      ]
     },
     "execution_count": 111,
     "metadata": {},
     "output_type": "execute_result"
    }
   ],
   "source": [
    "accuracy_score(y_test, y_predicted)"
   ]
  },
  {
   "cell_type": "markdown",
   "metadata": {},
   "source": [
    "Accuracy score is the percentage of correct predictions out of all predictions made. \n",
    "The LR algorithm achieves an accuracy of 90.5%, suggesting high level of strength of this model to classify the customer response given all the defined customer features."
   ]
  },
  {
   "cell_type": "markdown",
   "metadata": {},
   "source": [
    "### 6.2 : Confusion Matrix"
   ]
  },
  {
   "cell_type": "code",
   "execution_count": 85,
   "metadata": {},
   "outputs": [
    {
     "data": {
      "text/plain": [
       "array([[7830,  197],\n",
       "       [ 661,  355]])"
      ]
     },
     "execution_count": 85,
     "metadata": {},
     "output_type": "execute_result"
    }
   ],
   "source": [
    "confusion_matrix(y_test, y_predicted)"
   ]
  },
  {
   "cell_type": "code",
   "execution_count": 101,
   "metadata": {},
   "outputs": [
    {
     "data": {
      "image/png": "[encoded data removed]",
      "text/plain": [
       "<Figure size 864x576 with 2 Axes>"
      ]
     },
     "metadata": {
      "needs_background": "light"
     },
     "output_type": "display_data"
    }
   ],
   "source": [
    "conf_matrix = confusion_matrix(y_test, y_predicted)\n",
    "f, ax = plt.subplots(figsize=(12, 8))\n",
    "sns.heatmap(conf_matrix, annot=True, fmt=\"d\", linewidths=.5, ax=ax)\n",
    "plt.title(\"Confusion Matrix\", fontsize=20)\n",
    "ax.set_yticks(np.arange(conf_matrix.shape[0]) + 0.5, minor=False)\n",
    "ax.set_xticklabels(\"\")\n",
    "ax.set_yticklabels(['Refused T. Deposits', 'Accepted T. Deposits'], fontsize=16, rotation=360)\n",
    "plt.show()"
   ]
  },
  {
   "cell_type": "markdown",
   "metadata": {},
   "source": [
    "**Positive** => 0 => Refused Term Deposits  \n",
    "**Negative** => 1 => Accepted Term Deposits  \n",
    "\n",
    "**True  Positive (TP)** => 7830  \n",
    "**False Positive (FP)** => 197  \n",
    "\n",
    "The model predicted 7830 CORRECTLY (Refused T. Deposits) and only 197 FALSELY predicted as Positive(0), which is not bad.  \n",
    "\n",
    "**False Negative (FN)** => 661  \n",
    "**True  Negative (TN)** => 335  \n",
    "\n",
    "The model predicted 661 FALSELY as (1 - Accepted T. Deposits) and only 335 CORRECTLY predicted as \"Accepted T. Deposits\", which needs some more verification."
   ]
  },
  {
   "cell_type": "markdown",
   "metadata": {},
   "source": [
    "### 6.3 : Classification Report"
   ]
  },
  {
   "cell_type": "code",
   "execution_count": 80,
   "metadata": {},
   "outputs": [
    {
     "name": "stdout",
     "output_type": "stream",
     "text": [
      "              precision    recall  f1-score   support\n",
      "\n",
      "           0       0.92      0.98      0.95      8027\n",
      "           1       0.64      0.35      0.45      1016\n",
      "\n",
      "    accuracy                           0.91      9043\n",
      "   macro avg       0.78      0.66      0.70      9043\n",
      "weighted avg       0.89      0.91      0.89      9043\n",
      "\n"
     ]
    }
   ],
   "source": [
    "print(classification_report(y_test, y_predicted))"
   ]
  },
  {
   "cell_type": "markdown",
   "metadata": {},
   "source": [
    "Classification report shows the precision, recall, F1 and support scores for the LR classification model.\n",
    "\n",
    "Precision of 0 (the client said no) represents that for all instances predicted as no subscription, the percentage of clients that actually said no is 92%.  \n",
    "\n",
    "Recall is the ability of a classifier to find all positive instances. Recall of 0 indicates that for all clients that actually said no, the model predicts 98% correctly that they would decline the offer."
   ]
  },
  {
   "cell_type": "markdown",
   "metadata": {},
   "source": [
    "### 6.4 : AUC-ROC Curve"
   ]
  },
  {
   "cell_type": "code",
   "execution_count": 83,
   "metadata": {},
   "outputs": [
    {
     "name": "stdout",
     "output_type": "stream",
     "text": [
      "ROC AUC: 0.892\n"
     ]
    },
    {
     "data": {
      "image/png": "[encoded data removed]",
      "text/plain": [
       "<Figure size 720x720 with 1 Axes>"
      ]
     },
     "metadata": {
      "needs_background": "light"
     },
     "output_type": "display_data"
    }
   ],
   "source": [
    "# Determine the false positive and true positive rates\n",
    "FPR, TPR, _ = roc_curve(y_test, logmodel.predict_proba(x_test)[:,1])\n",
    "\n",
    "# Calculate the AUC\n",
    "roc_auc = auc(FPR, TPR)\n",
    "print ('ROC AUC: %0.3f' % roc_auc )\n",
    "\n",
    "# Plot of a ROC curve\n",
    "plt.figure(figsize=(10,10))\n",
    "plt.plot(FPR, TPR, label='ROC curve (area = %0.3f)' % roc_auc)\n",
    "plt.plot([0, 1], [0, 1], 'r--')\n",
    "plt.xlim([-0.05, 1.0])\n",
    "plt.ylim([0.0, 1.05])\n",
    "plt.xlabel('False Positive Rate')\n",
    "plt.ylabel('True Positive Rate')\n",
    "plt.title('ROC Curve (Test Sample Performance)')\n",
    "plt.legend(loc=\"lower right\")\n",
    "plt.grid(color='b', linestyle='-', linewidth=0.2)\n",
    "plt.show()"
   ]
  },
  {
   "cell_type": "markdown",
   "metadata": {},
   "source": [
    "<div class=\"alert alert-block alert-success\">\n",
    "<font color=blue>\n",
    "\n",
    "### 7. Prediction with new data\n",
    "\n",
    "</font>\n",
    "</div>"
   ]
  },
  {
   "cell_type": "markdown",
   "metadata": {},
   "source": [
    "<div class=\"alert alert-block alert-success\">\n",
    "<font color=blue>\n",
    "\n",
    "### 8. Conclusion\n",
    "\n",
    "</font>\n",
    "</div>"
   ]
  },
  {
   "cell_type": "markdown",
   "metadata": {},
   "source": [
    "<div class=\"alert alert-block alert-success\">\n",
    "<font color=blue>\n",
    "\n",
    "### References\n",
    "\n",
    "</font>\n",
    "</div>"
   ]
  },
  {
   "cell_type": "markdown",
   "metadata": {},
   "source": [
    "- Dataset https://grouplens.org/datasets/movielens/100k/\n"
   ]
  },
  {
   "cell_type": "code",
   "execution_count": null,
   "metadata": {},
   "outputs": [],
   "source": []
  }
 ],
 "metadata": {
  "kernelspec": {
   "display_name": "Python 3",
   "language": "python",
   "name": "python3"
  },
  "language_info": {
   "codemirror_mode": {
    "name": "ipython",
    "version": 3
   },
   "file_extension": ".py",
   "mimetype": "text/x-python",
   "name": "python",
   "nbconvert_exporter": "python",
   "pygments_lexer": "ipython3",
   "version": "3.7.3"
  }
 },
 "nbformat": 4,
 "nbformat_minor": 2
}

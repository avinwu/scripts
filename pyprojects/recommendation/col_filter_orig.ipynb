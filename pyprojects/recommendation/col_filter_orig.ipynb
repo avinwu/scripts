{
 "cells": [
  {
   "cell_type": "code",
   "execution_count": 8,
   "metadata": {},
   "outputs": [
    {
     "name": "stderr",
     "output_type": "stream",
     "text": [
      "C:\\Users\\u004637\\AppData\\Local\\Continuum\\anaconda3\\lib\\site-packages\\ipykernel_launcher.py:17: FutureWarning: Method .as_matrix will be removed in a future version. Use .values instead.\n"
     ]
    }
   ],
   "source": [
    "\"\"\" connection to data base and extracting data \"\"\"\n",
    " \n",
    "import pandas as pd\n",
    "'''\n",
    "import pyodbc\n",
    "conn = pyodbc.connect('Driver={SQL Server};'\n",
    "                      'Server=BIA-ANALYSIS-DB;'\n",
    "                      'Database=BIA_Marketing;'\n",
    "                      'Trusted_Connection=yes;')\n",
    "\n",
    "df = pd.read_sql_query(\"select top 100 * FROM BIA_Marketing.sas.cust_prod_matrix\", conn)\n",
    "'''\n",
    "df = pd.read_csv(\"data_cust_prod_matrix.csv\") #.head(10)\n",
    "df.head()\n",
    "\n",
    "prod_df = df.iloc[:,1:9] # slecting the product columns excusing user id\n",
    "prod_mat = prod_df.as_matrix(columns=None) # converting the dataframe into matrix "
   ]
  },
  {
   "cell_type": "code",
   "execution_count": null,
   "metadata": {},
   "outputs": [],
   "source": [
    "# calculating similarity metric using both item and also using customer/user\n",
    "import numpy as np\n",
    "from sklearn.metrics.pairwise import pairwise_distances \n",
    "user_similarity = pairwise_distances(prod_mat, metric='cosine')\n",
    "item_similarity = pairwise_distances(prod_mat.T, metric='cosine')\n",
    "\n",
    "print(\"user_similarity : \" + str(user_similarity.shape))\n",
    "print(\"item_similarity : \" + str(item_similarity.shape))"
   ]
  },
  {
   "cell_type": "code",
   "execution_count": null,
   "metadata": {},
   "outputs": [],
   "source": [
    "\n",
    "\"\"\" Function for recommenation matix generation \"\"\"\n",
    "\n",
    "def predict(ratings, similarity, type='user'):\n",
    "    if type == 'user':\n",
    "        mean_user_rating = ratings.mean(axis=1)\n",
    "        #We use np.newaxis so that mean_user_rating has same format as s_ratings\n",
    "        ratings_diff = (ratings - mean_user_rating[:, np.newaxis])\n",
    "        pred = mean_user_rating[:, np.newaxis] + similarity.dot(ratings_diff) / np.array([np.abs(similarity).sum(axis=1)]).T\n",
    "    elif type == 'item':\n",
    "        pred = ratings.dot(similarity) / np.array([np.abs(similarity).sum(axis=1)])\n",
    "    return pred\n",
    "\n",
    "\n",
    "\"\"\" running function against the data matrix \"\"\"\n",
    "\n",
    "user_prediction = predict(prod_mat, user_similarity, type='user')\n",
    "item_prediction = predict(prod_mat, item_similarity, type='item')\n",
    "\n",
    "print(\"user_prediction : \" + str(user_prediction.shape))\n",
    "print(\"item_prediction : \" + str(item_prediction.shape))\n"
   ]
  },
  {
   "cell_type": "code",
   "execution_count": null,
   "metadata": {},
   "outputs": [],
   "source": [
    "'''\n",
    "user based method accuracy. \n",
    "1-MAE is used as accuracy as we can compare and \n",
    "also the out put of recommendation ening and input is binary.\n",
    "This is appropriate metric.\n",
    "\n",
    "min max transformation. 0 to 1 range\n",
    "\n",
    "'''\n",
    "\n",
    "scaled_user_pred = (user_prediction - user_prediction.min()) / (user_prediction.max() - user_prediction.min())\n",
    "mean = scaled_user_pred.mean()\n",
    "bi_user_pred = (scaled_user_pred > mean).astype(int)\n",
    "\n",
    "\n",
    "'''\n",
    "mean_real = prod_mat.mean()\n",
    "bi_real = (prod_mat > mean_real).astype(int) # any value greater than mean is flagged as 1 else 0\n",
    "'''\n",
    " \n",
    "from sklearn.metrics import mean_absolute_error\n",
    "\n",
    "Accuracy_user_sim = 1- mean_absolute_error(prod_mat, bi_user_pred)\n",
    "\n",
    "\n",
    "'''\n",
    "item based method accuracy\n",
    "\n",
    "'''\n",
    "\n",
    "scaled_item_pred = (item_prediction - item_prediction.min()) / (item_prediction.max() - item_prediction.min())\n",
    "mean = scaled_item_pred.mean()\n",
    "bi_item_pred = (scaled_item_pred > mean).astype(int)\n",
    "\n",
    "'''\n",
    "mean_real = prod_mat.mean()\n",
    "bi_real = (prod_mat > mean_real).astype(int)\n",
    "'''\n",
    "\n"
   ]
  },
  {
   "cell_type": "code",
   "execution_count": null,
   "metadata": {},
   "outputs": [],
   "source": [
    "from sklearn.metrics import mean_absolute_error\n",
    "\n",
    "Accuracy_item_sim = 1- mean_absolute_error(prod_mat, bi_item_pred)\n",
    "\n",
    "print(Accuracy_item_sim)\n",
    "\n",
    "print(Accuracy_user_sim)"
   ]
  },
  {
   "cell_type": "code",
   "execution_count": null,
   "metadata": {},
   "outputs": [],
   "source": []
  }
 ],
 "metadata": {
  "kernelspec": {
   "display_name": "Python 3",
   "language": "python",
   "name": "python3"
  },
  "language_info": {
   "codemirror_mode": {
    "name": "ipython",
    "version": 3
   },
   "file_extension": ".py",
   "mimetype": "text/x-python",
   "name": "python",
   "nbconvert_exporter": "python",
   "pygments_lexer": "ipython3",
   "version": "3.7.1"
  }
 },
 "nbformat": 4,
 "nbformat_minor": 2
}

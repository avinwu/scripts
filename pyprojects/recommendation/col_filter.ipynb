{
 "cells": [
  {
   "cell_type": "code",
   "execution_count": 45,
   "metadata": {},
   "outputs": [],
   "source": [
    "\"\"\" connection to data base and extracting data \"\"\"\n",
    " \n",
    "import pandas as pd\n",
    "'''\n",
    "import pyodbc\n",
    "conn = pyodbc.connect('Driver={SQL Server};'\n",
    "                      'Server=BIA-ANALYSIS-DB;'\n",
    "                      'Database=BIA_Marketing;'\n",
    "                      'Trusted_Connection=yes;')\n",
    "\n",
    "df = pd.read_sql_query(\"select top 100 * FROM BIA_Marketing.sas.cust_prod_matrix\", conn)\n",
    "'''\n",
    "df = pd.read_csv(\"data_cust_prod_matrix.csv\").head(50) #runs fine with 20000\n",
    "#df"
   ]
  },
  {
   "cell_type": "code",
   "execution_count": 46,
   "metadata": {},
   "outputs": [
    {
     "name": "stderr",
     "output_type": "stream",
     "text": [
      "C:\\Users\\u004637\\AppData\\Local\\Continuum\\anaconda3\\lib\\site-packages\\ipykernel_launcher.py:2: FutureWarning: Method .as_matrix will be removed in a future version. Use .values instead.\n",
      "  \n"
     ]
    }
   ],
   "source": [
    "prod_df = df.iloc[:,1:9] # slecting the product columns excusing user id\n",
    "prod_mat = prod_df.as_matrix(columns=None) # converting the dataframe into matrix "
   ]
  },
  {
   "cell_type": "code",
   "execution_count": 34,
   "metadata": {},
   "outputs": [],
   "source": [
    "#prod_mat.T"
   ]
  },
  {
   "cell_type": "code",
   "execution_count": 35,
   "metadata": {},
   "outputs": [],
   "source": [
    "#prod_mat"
   ]
  },
  {
   "cell_type": "code",
   "execution_count": 47,
   "metadata": {},
   "outputs": [
    {
     "name": "stdout",
     "output_type": "stream",
     "text": [
      "user_similarity : (50, 50)\n",
      "item_similarity : (8, 8)\n"
     ]
    }
   ],
   "source": [
    "# calculating similarity metric using both item and also using customer/user\n",
    "import numpy as np\n",
    "from sklearn.metrics.pairwise import pairwise_distances \n",
    "user_similarity = pairwise_distances(prod_mat, metric='cosine')\n",
    "item_similarity = pairwise_distances(prod_mat.T, metric='cosine')\n",
    "\n",
    "print(\"user_similarity : \" + str(user_similarity.shape))\n",
    "print(\"item_similarity : \" + str(item_similarity.shape))"
   ]
  },
  {
   "cell_type": "code",
   "execution_count": 37,
   "metadata": {},
   "outputs": [
    {
     "data": {
      "text/plain": [
       "array([[0.        , 1.        , 1.        , ..., 1.        , 0.        ,\n",
       "        0.42264973],\n",
       "       [1.        , 0.        , 0.        , ..., 0.        , 1.        ,\n",
       "        0.42264973],\n",
       "       [1.        , 0.        , 0.        , ..., 0.        , 1.        ,\n",
       "        0.42264973],\n",
       "       ...,\n",
       "       [1.        , 0.        , 0.        , ..., 0.        , 1.        ,\n",
       "        0.42264973],\n",
       "       [0.        , 1.        , 1.        , ..., 1.        , 0.        ,\n",
       "        0.42264973],\n",
       "       [0.42264973, 0.42264973, 0.42264973, ..., 0.42264973, 0.42264973,\n",
       "        0.        ]])"
      ]
     },
     "execution_count": 37,
     "metadata": {},
     "output_type": "execute_result"
    }
   ],
   "source": [
    "user_similarity"
   ]
  },
  {
   "cell_type": "code",
   "execution_count": 38,
   "metadata": {},
   "outputs": [
    {
     "data": {
      "text/plain": [
       "array([[0.        , 1.        , 0.58752104, 1.        , 0.91666667,\n",
       "        1.        , 1.        , 1.        ],\n",
       "       [1.        , 0.        , 1.        , 1.        , 1.        ,\n",
       "        1.        , 1.        , 1.        ],\n",
       "       [0.58752104, 1.        , 0.        , 1.        , 0.88214887,\n",
       "        1.        , 1.        , 1.        ],\n",
       "       [1.        , 1.        , 1.        , 0.        , 1.        ,\n",
       "        1.        , 1.        , 1.        ],\n",
       "       [0.91666667, 1.        , 0.88214887, 1.        , 0.        ,\n",
       "        1.        , 1.        , 1.        ],\n",
       "       [1.        , 1.        , 1.        , 1.        , 1.        ,\n",
       "        0.        , 1.        , 1.        ],\n",
       "       [1.        , 1.        , 1.        , 1.        , 1.        ,\n",
       "        1.        , 0.        , 1.        ],\n",
       "       [1.        , 1.        , 1.        , 1.        , 1.        ,\n",
       "        1.        , 1.        , 0.        ]])"
      ]
     },
     "execution_count": 38,
     "metadata": {},
     "output_type": "execute_result"
    }
   ],
   "source": [
    "item_similarity"
   ]
  },
  {
   "cell_type": "code",
   "execution_count": 39,
   "metadata": {},
   "outputs": [
    {
     "name": "stdout",
     "output_type": "stream",
     "text": [
      "user_prediction : (50, 8)\n",
      "item_prediction : (50, 8)\n"
     ]
    }
   ],
   "source": [
    "\n",
    "\"\"\" Function for recommenation matix generation \"\"\"\n",
    "\n",
    "def predict(ratings, similarity, type):\n",
    "    if type == 'user':\n",
    "        mean_user_rating = ratings.mean(axis=1)\n",
    "        #We use np.newaxis so that mean_user_rating has same format as s_ratings\n",
    "        ratings_diff = (ratings - mean_user_rating[:, np.newaxis])\n",
    "        pred = mean_user_rating[:, np.newaxis] + similarity.dot(ratings_diff) / np.array([np.abs(similarity).sum(axis=1)]).T\n",
    "    elif type == 'item':\n",
    "        pred = ratings.dot(similarity) / np.array([np.abs(similarity).sum(axis=1)])\n",
    "    return pred\n",
    "\n",
    "\n",
    "\"\"\" running function against the data matrix \"\"\"\n",
    "\n",
    "user_prediction = predict(prod_mat, user_similarity, type='user')\n",
    "item_prediction = predict(prod_mat, item_similarity, type='item')\n",
    "\n",
    "print(\"user_prediction : \" + str(user_prediction.shape))\n",
    "print(\"item_prediction : \" + str(item_prediction.shape))\n"
   ]
  },
  {
   "cell_type": "code",
   "execution_count": 40,
   "metadata": {},
   "outputs": [
    {
     "data": {
      "text/plain": [
       "'\\nmean_real = prod_mat.mean()\\nbi_real = (prod_mat > mean_real).astype(int)\\n'"
      ]
     },
     "execution_count": 40,
     "metadata": {},
     "output_type": "execute_result"
    }
   ],
   "source": [
    "'''\n",
    "user based method accuracy. \n",
    "1-MAE is used as accuracy as we can compare and \n",
    "also the out put of recommendation ening and input is binary.\n",
    "This is appropriate metric.\n",
    "\n",
    "min max transformation. 0 to 1 range\n",
    "\n",
    "'''\n",
    "\n",
    "scaled_user_pred = (user_prediction - user_prediction.min()) / (user_prediction.max() - user_prediction.min())\n",
    "mean = scaled_user_pred.mean()\n",
    "bi_user_pred = (scaled_user_pred > mean).astype(int)\n",
    "\n",
    "\n",
    "'''\n",
    "mean_real = prod_mat.mean()\n",
    "bi_real = (prod_mat > mean_real).astype(int) # any value greater than mean is flagged as 1 else 0\n",
    "'''\n",
    " \n",
    "from sklearn.metrics import mean_absolute_error\n",
    "\n",
    "Accuracy_user_sim = 1- mean_absolute_error(prod_mat, bi_user_pred)\n",
    "\n",
    "\n",
    "'''\n",
    "item based method accuracy\n",
    "\n",
    "'''\n",
    "\n",
    "scaled_item_pred = (item_prediction - item_prediction.min()) / (item_prediction.max() - item_prediction.min())\n",
    "mean = scaled_item_pred.mean()\n",
    "bi_item_pred = (scaled_item_pred > mean).astype(int)\n",
    "\n",
    "'''\n",
    "mean_real = prod_mat.mean()\n",
    "bi_real = (prod_mat > mean_real).astype(int)\n",
    "'''\n",
    "\n"
   ]
  },
  {
   "cell_type": "code",
   "execution_count": 41,
   "metadata": {},
   "outputs": [
    {
     "name": "stdout",
     "output_type": "stream",
     "text": [
      "0.13\n",
      "0.5625\n"
     ]
    }
   ],
   "source": [
    "from sklearn.metrics import mean_absolute_error\n",
    "\n",
    "Accuracy_item_sim = 1- mean_absolute_error(prod_mat, bi_item_pred)\n",
    "\n",
    "print(Accuracy_item_sim)\n",
    "\n",
    "print(Accuracy_user_sim)"
   ]
  },
  {
   "cell_type": "code",
   "execution_count": null,
   "metadata": {},
   "outputs": [],
   "source": []
  }
 ],
 "metadata": {
  "kernelspec": {
   "display_name": "Python 3",
   "language": "python",
   "name": "python3"
  },
  "language_info": {
   "codemirror_mode": {
    "name": "ipython",
    "version": 3
   },
   "file_extension": ".py",
   "mimetype": "text/x-python",
   "name": "python",
   "nbconvert_exporter": "python",
   "pygments_lexer": "ipython3",
   "version": "3.7.1"
  }
 },
 "nbformat": 4,
 "nbformat_minor": 2
}

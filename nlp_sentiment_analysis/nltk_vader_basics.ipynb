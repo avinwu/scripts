{
 "cells": [
  {
   "cell_type": "markdown",
   "metadata": {},
   "source": [
    "## Sentiment Analysis\n",
    "\n",
    "Take the raw text data and pass it through a prebuilt algorithm that will determine the sentiments, without requiring pre-labeled training mechanism."
   ]
  },
  {
   "cell_type": "markdown",
   "metadata": {},
   "source": [
    "### VADER - (Valence Aware Dictionary for Sentiment Reasoning)\n",
    "#### Polarity/Intensity\n",
    "- A Model used for text sentiment analysis that is sensitive to both polarity (positive/negative) and intensity (strength) of emotion. \n",
    "- It is available in the NLTK package and can be applied directly to unlabeled text data.\n",
    "\n",
    "#### Document Sentiment Score\n",
    "- Primarily VADER sentiment analysis relies on a dictionary which maps lexical features to emotion intensities called sentiment scores. \n",
    "- The sentiment score of a text can be obtained by summing up the intensity of each word in the text. \n",
    "- So, every single word has some sort of positive/negative value attached to it. We take all the words inside of the text documents, add up the sentiment values to come up with document sentiment score.\n",
    "\n",
    "#### Examples\n",
    "- Words like love, like, enjoy, happy all convey positive sentiment.\n",
    "- VADER is also intelligent enough to understand the context of the word, such as “did not love” as a negative sentiment.\n",
    "- It also understands capitalization and punctuation such as LOVE!!!\n"
   ]
  },
  {
   "cell_type": "code",
   "execution_count": 1,
   "metadata": {},
   "outputs": [],
   "source": [
    "import nltk"
   ]
  },
  {
   "cell_type": "code",
   "execution_count": 2,
   "metadata": {},
   "outputs": [
    {
     "name": "stderr",
     "output_type": "stream",
     "text": [
      "[nltk_data] Downloading package vader_lexicon to\n",
      "[nltk_data]     /home/pabhijit/nltk_data...\n"
     ]
    },
    {
     "data": {
      "text/plain": [
       "True"
      ]
     },
     "execution_count": 2,
     "metadata": {},
     "output_type": "execute_result"
    }
   ],
   "source": [
    "# Download vader lexicon\n",
    "nltk.download('vader_lexicon')"
   ]
  },
  {
   "cell_type": "code",
   "execution_count": 3,
   "metadata": {},
   "outputs": [],
   "source": [
    "from nltk.sentiment.vader import SentimentIntensityAnalyzer"
   ]
  },
  {
   "cell_type": "code",
   "execution_count": 5,
   "metadata": {},
   "outputs": [],
   "source": [
    "# Create an instance of SentimentIntensityAnalyzer\n",
    "\n",
    "sid = SentimentIntensityAnalyzer()\n",
    "\n",
    "# It takes in a string and returns a dictionalry of scores in FOUR categories - Negative, Positive, Neutral, Compound (Created by normalizging the other 3 scores)."
   ]
  },
  {
   "cell_type": "code",
   "execution_count": 6,
   "metadata": {},
   "outputs": [
    {
     "data": {
      "text/plain": [
       "{'neg': 0.0, 'neu': 0.508, 'pos': 0.492, 'compound': 0.4404}"
      ]
     },
     "execution_count": 6,
     "metadata": {},
     "output_type": "execute_result"
    }
   ],
   "source": [
    "# Let's take a sampel string\n",
    "a = \"This is a good movie\"\n",
    "\n",
    "# Get the score\n",
    "sid.polarity_scores(a)"
   ]
  },
  {
   "cell_type": "markdown",
   "metadata": {},
   "source": [
    "As we see above there is some positive value, some neutral value and zero negative value (as its a fairly positive review)"
   ]
  },
  {
   "cell_type": "code",
   "execution_count": null,
   "metadata": {},
   "outputs": [],
   "source": [
    "# Let's take another string\n"
   ]
  }
 ],
 "metadata": {
  "kernelspec": {
   "display_name": "Python 3",
   "language": "python",
   "name": "python3"
  },
  "language_info": {
   "codemirror_mode": {
    "name": "ipython",
    "version": 3
   },
   "file_extension": ".py",
   "mimetype": "text/x-python",
   "name": "python",
   "nbconvert_exporter": "python",
   "pygments_lexer": "ipython3",
   "version": "3.7.3"
  }
 },
 "nbformat": 4,
 "nbformat_minor": 2
}

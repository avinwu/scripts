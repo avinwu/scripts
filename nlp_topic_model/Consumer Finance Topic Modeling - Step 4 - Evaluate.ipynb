{
 "cells": [
  {
   "cell_type": "markdown",
   "metadata": {},
   "source": [
    "## CONSUMER FINANCE TOPIC MODELING - NMF\n",
    "\n",
    "### Step - 4 : Evaluate"
   ]
  },
  {
   "cell_type": "code",
   "execution_count": 1,
   "metadata": {},
   "outputs": [
    {
     "name": "stderr",
     "output_type": "stream",
     "text": [
      "[nltk_data] Downloading package averaged_perceptron_tagger to\n",
      "[nltk_data]     /home/pabhijit/nltk_data...\n",
      "[nltk_data]   Package averaged_perceptron_tagger is already up-to-\n",
      "[nltk_data]       date!\n",
      "[nltk_data] Downloading package wordnet to /home/pabhijit/nltk_data...\n",
      "[nltk_data]   Package wordnet is already up-to-date!\n",
      "[nltk_data] Downloading package punkt to /home/pabhijit/nltk_data...\n",
      "[nltk_data]   Package punkt is already up-to-date!\n"
     ]
    },
    {
     "data": {
      "text/plain": [
       "True"
      ]
     },
     "execution_count": 1,
     "metadata": {},
     "output_type": "execute_result"
    }
   ],
   "source": [
    "import pandas as pd\n",
    "from sklearn.feature_extraction.text import TfidfVectorizer\n",
    "from sklearn.feature_extraction import text\n",
    "from sklearn.decomposition import NMF\n",
    "import numpy as np\n",
    "import pickle\n",
    "import warnings  \n",
    "warnings.filterwarnings(\"ignore\", category=DeprecationWarning)\n",
    "warnings.filterwarnings('ignore')\n",
    "import matplotlib.pyplot as plt\n",
    "%matplotlib inline\n",
    "\n",
    "import nltk \n",
    "# from nltk.corpus import stopwords\n",
    "from nltk import word_tokenize, pos_tag\n",
    "# from nltk.stem import PorterStemmer\n",
    "nltk.download('averaged_perceptron_tagger')\n",
    "nltk.download('wordnet')\n",
    "nltk.download('punkt')"
   ]
  },
  {
   "cell_type": "code",
   "execution_count": 3,
   "metadata": {},
   "outputs": [],
   "source": [
    "pd.set_option('max_colwidth', 1000)\n",
    "pd.options.display.max_rows = 500\n",
    "# Read file\n",
    "df1 = pd.read_pickle('~/out/data_prep.pkl')"
   ]
  },
  {
   "cell_type": "code",
   "execution_count": 4,
   "metadata": {},
   "outputs": [],
   "source": [
    "kmin, kmax = 4, 50"
   ]
  },
  {
   "cell_type": "code",
   "execution_count": 6,
   "metadata": {},
   "outputs": [],
   "source": [
    "my_stop_words = text.ENGLISH_STOP_WORDS\n",
    "\n",
    "vectorizer = TfidfVectorizer(stop_words=my_stop_words, min_df = 20)\n",
    "A = vectorizer.fit_transform(df1['consumer_complaint_narrative'])\n",
    "terms = vectorizer.get_feature_names()"
   ]
  },
  {
   "cell_type": "code",
   "execution_count": 7,
   "metadata": {},
   "outputs": [
    {
     "name": "stdout",
     "output_type": "stream",
     "text": [
      "Applying NMF for k=4 ...\n",
      "Applying NMF for k=5 ...\n",
      "Applying NMF for k=6 ...\n",
      "Applying NMF for k=7 ...\n",
      "Applying NMF for k=8 ...\n",
      "Applying NMF for k=9 ...\n",
      "Applying NMF for k=10 ...\n",
      "Applying NMF for k=11 ...\n",
      "Applying NMF for k=12 ...\n",
      "Applying NMF for k=13 ...\n",
      "Applying NMF for k=14 ...\n",
      "Applying NMF for k=15 ...\n",
      "Applying NMF for k=16 ...\n",
      "Applying NMF for k=17 ...\n",
      "Applying NMF for k=18 ...\n",
      "Applying NMF for k=19 ...\n",
      "Applying NMF for k=20 ...\n",
      "Applying NMF for k=21 ...\n",
      "Applying NMF for k=22 ...\n",
      "Applying NMF for k=23 ...\n",
      "Applying NMF for k=24 ...\n",
      "Applying NMF for k=25 ...\n",
      "Applying NMF for k=26 ...\n",
      "Applying NMF for k=27 ...\n",
      "Applying NMF for k=28 ...\n",
      "Applying NMF for k=29 ...\n",
      "Applying NMF for k=30 ...\n",
      "Applying NMF for k=31 ...\n",
      "Applying NMF for k=32 ...\n",
      "Applying NMF for k=33 ...\n",
      "Applying NMF for k=34 ...\n",
      "Applying NMF for k=35 ...\n",
      "Applying NMF for k=36 ...\n",
      "Applying NMF for k=37 ...\n",
      "Applying NMF for k=38 ...\n",
      "Applying NMF for k=39 ...\n",
      "Applying NMF for k=40 ...\n",
      "Applying NMF for k=41 ...\n",
      "Applying NMF for k=42 ...\n",
      "Applying NMF for k=43 ...\n",
      "Applying NMF for k=44 ...\n",
      "Applying NMF for k=45 ...\n",
      "Applying NMF for k=46 ...\n",
      "Applying NMF for k=47 ...\n",
      "Applying NMF for k=48 ...\n",
      "Applying NMF for k=49 ...\n",
      "Applying NMF for k=50 ...\n"
     ]
    }
   ],
   "source": [
    "from sklearn import decomposition\n",
    "topic_models = []\n",
    "# try each value of k\n",
    "for k in range(kmin,kmax+1):\n",
    "    print(\"Applying NMF for k=%d ...\" % k )\n",
    "    # run NMF\n",
    "    model = decomposition.NMF(random_state =1, init=\"nndsvd\", n_components=k ) \n",
    "    W = model.fit_transform( A )\n",
    "    H = model.components_    \n",
    "    # store for later\n",
    "    topic_models.append( (k,W,H) )"
   ]
  },
  {
   "cell_type": "code",
   "execution_count": 8,
   "metadata": {},
   "outputs": [],
   "source": [
    "import re\n",
    "class TokenGenerator:\n",
    "    def __init__( self, documents, stopwords ):\n",
    "        self.documents = documents\n",
    "        self.stopwords = stopwords\n",
    "        self.tokenizer = re.compile( r\"(?u)\\b\\w\\w+\\b\" )\n",
    "\n",
    "    def __iter__( self ):\n",
    "        print(\"Building Word2Vec model ...\")\n",
    "        for doc in self.documents:\n",
    "            tokens = []\n",
    "            for tok in self.tokenizer.findall( doc ):\n",
    "                if tok in self.stopwords:\n",
    "                    tokens.append( \"<stopword>\" )\n",
    "                elif len(tok) >= 2:\n",
    "                    tokens.append( tok )\n",
    "            yield tokens"
   ]
  },
  {
   "cell_type": "code",
   "execution_count": 9,
   "metadata": {},
   "outputs": [
    {
     "name": "stdout",
     "output_type": "stream",
     "text": [
      "Read 7491 raw text documents\n"
     ]
    }
   ],
   "source": [
    "raw_documents = []\n",
    "for line in df1['consumer_complaint_narrative']:\n",
    "    raw_documents.append( line.strip().lower() )\n",
    "print(\"Read %d raw text documents\" % len(raw_documents))"
   ]
  },
  {
   "cell_type": "code",
   "execution_count": 10,
   "metadata": {},
   "outputs": [
    {
     "data": {
      "text/plain": [
       "['due to inconsistencies in the amount owed that i was told by m & t bank and the amount that was reported to the credit reporting agencies, i was advised to write a good will letter in order to address the issue and request the negative entry be removed from my credit report all together. i had a vehicle that was stolen and it was declared a total loss by insurance company. the insurance company and the gap insurancw companypaid the outstanding balance of the loan, but i was told by m & t bank that there was still a balance due on the loan. in good faith, without having received any proof as to why there was still a balance, i made a partial payment towards the remaining debt. i then sent the goodwill letter still offering to pay the remainder of the debt, but in exchange for the removal of the negative entry on my credit report. at one point, in  2015, per my credit monitoring agency, it showed a delinquent balance of $0.00, but when i checked my credit report again on   2015, there was a delinquent balance of $1400.00. the monies from the gap insurance and my insurance company has been paid, m & t bank says that i still owe $620.00, of which $210.00 has already been paid. i contacted m & t bank via return receipt mail, but i have not been given the courtesy of a response yet.',\n",
       " 'around  we consolidated our loans and paid off a loan to chrysler financial for an automotive loan. in  we applied for a lost title at our local town office in tennessee. at this time it was made known to us that td financial      lien on our title. i was directed to td financial  , then to my title support , and back to td financial to find that there is a \" balance due of $85.00 \\'\\' for \" charges and fees \\'\\'. i have never received any notifications from , td auto finance or any other representative in the ten to twelve years since that loan was paid off. td auto finance is located in  maine and i have never transacted business with them. i requested a supervisor call me to discuss the \" balance due \\'\\' on 15, and 1 week has passed with no response despite the  calls i have placed to their \" customer service department \\'\\' i find it very concerning and unethical that a corporation can quietly hold a \" balance due \\'\\' for more than 10 years and then demand a consumer pay.']"
      ]
     },
     "execution_count": 10,
     "metadata": {},
     "output_type": "execute_result"
    }
   ],
   "source": [
    "raw_documents[:2]"
   ]
  },
  {
   "cell_type": "code",
   "execution_count": 11,
   "metadata": {},
   "outputs": [],
   "source": [
    "stop_words = text.ENGLISH_STOP_WORDS"
   ]
  },
  {
   "cell_type": "code",
   "execution_count": 12,
   "metadata": {},
   "outputs": [
    {
     "name": "stdout",
     "output_type": "stream",
     "text": [
      "Building Word2Vec model ...\n",
      "Building Word2Vec model ...\n",
      "Building Word2Vec model ...\n",
      "Building Word2Vec model ...\n",
      "Building Word2Vec model ...\n",
      "Building Word2Vec model ...\n"
     ]
    }
   ],
   "source": [
    "import gensim\n",
    "docgen = TokenGenerator( raw_documents, stop_words )\n",
    "# the model has 500 dimensions, the minimum document-term frequency is 20\n",
    "w2v_model = gensim.models.Word2Vec(docgen, size=500, min_count=20, sg=1)"
   ]
  },
  {
   "cell_type": "code",
   "execution_count": 13,
   "metadata": {},
   "outputs": [
    {
     "name": "stdout",
     "output_type": "stream",
     "text": [
      "Model has 2999 terms\n"
     ]
    }
   ],
   "source": [
    "print( \"Model has %d terms\" % len(w2v_model.wv.vocab) )"
   ]
  },
  {
   "cell_type": "code",
   "execution_count": 14,
   "metadata": {},
   "outputs": [],
   "source": [
    "w2v_model.save(\"w2v-model.bin\")"
   ]
  },
  {
   "cell_type": "code",
   "execution_count": 15,
   "metadata": {},
   "outputs": [],
   "source": [
    "def calculate_coherence( w2v_model, term_rankings ):\n",
    "    overall_coherence = 0.0\n",
    "    for topic_index in range(len(term_rankings)):\n",
    "        # check each pair of terms\n",
    "        pair_scores = []\n",
    "        for pair in combinations( term_rankings[topic_index], 2 ):\n",
    "            pair_scores.append( w2v_model.similarity(pair[0], pair[1]) )\n",
    "        # get the mean for all pairs in this topic\n",
    "        topic_score = sum(pair_scores) / len(pair_scores)\n",
    "        overall_coherence += topic_score\n",
    "    # get the mean score across all topics\n",
    "    return overall_coherence / len(term_rankings)"
   ]
  },
  {
   "cell_type": "code",
   "execution_count": 16,
   "metadata": {},
   "outputs": [],
   "source": [
    "import numpy as np\n",
    "def get_descriptor( all_terms, H, topic_index, top ):\n",
    "    # reverse sort the values to sort the indices\n",
    "    top_indices = np.argsort( H[topic_index,:] )[::-1]\n",
    "    # now get the terms corresponding to the top-ranked indices\n",
    "    top_terms = []\n",
    "    for term_index in top_indices[0:top]:\n",
    "        top_terms.append( all_terms[term_index] )\n",
    "    return top_terms"
   ]
  },
  {
   "cell_type": "code",
   "execution_count": 17,
   "metadata": {},
   "outputs": [
    {
     "name": "stdout",
     "output_type": "stream",
     "text": [
      "K=04: Coherence=0.3200\n",
      "K=05: Coherence=0.3430\n",
      "K=06: Coherence=0.3510\n",
      "K=07: Coherence=0.3585\n",
      "K=08: Coherence=0.3564\n",
      "K=09: Coherence=0.3647\n",
      "K=10: Coherence=0.3600\n",
      "K=11: Coherence=0.3554\n",
      "K=12: Coherence=0.3566\n",
      "K=13: Coherence=0.3811\n",
      "K=14: Coherence=0.3825\n",
      "K=15: Coherence=0.3821\n",
      "K=16: Coherence=0.3863\n",
      "K=17: Coherence=0.3845\n",
      "K=18: Coherence=0.3927\n",
      "K=19: Coherence=0.3939\n",
      "K=20: Coherence=0.4026\n",
      "K=21: Coherence=0.3992\n",
      "K=22: Coherence=0.4028\n",
      "K=23: Coherence=0.4024\n",
      "K=24: Coherence=0.4106\n",
      "K=25: Coherence=0.4087\n",
      "K=26: Coherence=0.4061\n",
      "K=27: Coherence=0.4034\n",
      "K=28: Coherence=0.4034\n",
      "K=29: Coherence=0.4156\n",
      "K=30: Coherence=0.4136\n",
      "K=31: Coherence=0.4230\n",
      "K=32: Coherence=0.4190\n",
      "K=33: Coherence=0.4130\n",
      "K=34: Coherence=0.4083\n",
      "K=35: Coherence=0.4150\n",
      "K=36: Coherence=0.4122\n",
      "K=37: Coherence=0.4159\n",
      "K=38: Coherence=0.4124\n",
      "K=39: Coherence=0.4162\n",
      "K=40: Coherence=0.4122\n",
      "K=41: Coherence=0.4105\n",
      "K=42: Coherence=0.4241\n",
      "K=43: Coherence=0.4081\n",
      "K=44: Coherence=0.4134\n",
      "K=45: Coherence=0.4177\n",
      "K=46: Coherence=0.4084\n",
      "K=47: Coherence=0.4105\n",
      "K=48: Coherence=0.4141\n",
      "K=49: Coherence=0.4108\n",
      "K=50: Coherence=0.4180\n"
     ]
    }
   ],
   "source": [
    "from itertools import combinations\n",
    "k_values = []\n",
    "coherences = []\n",
    "for (k,W,H) in topic_models:\n",
    "    # Get all of the topic descriptors - the term_rankings, based on top 10 terms\n",
    "    term_rankings = []\n",
    "    for topic_index in range(k):\n",
    "        term_rankings.append( get_descriptor( terms, H, topic_index, 10 ) )\n",
    "    # Now calculate the coherence based on our Word2vec model\n",
    "    k_values.append( k )\n",
    "    coherences.append( calculate_coherence( w2v_model, term_rankings ) )\n",
    "    print(\"K=%02d: Coherence=%.4f\" % ( k, coherences[-1] ) )"
   ]
  },
  {
   "cell_type": "code",
   "execution_count": 18,
   "metadata": {},
   "outputs": [],
   "source": [
    "import matplotlib\n",
    "%matplotlib inline\n",
    "plt.style.use(\"ggplot\")\n",
    "matplotlib.rcParams.update({\"font.size\": 14})"
   ]
  },
  {
   "cell_type": "code",
   "execution_count": 19,
   "metadata": {},
   "outputs": [
    {
     "data": {
      "image/png": "[encoded data removed]",
      "text/plain": [
       "<Figure size 936x504 with 1 Axes>"
      ]
     },
     "metadata": {},
     "output_type": "display_data"
    }
   ],
   "source": [
    "fig = plt.figure(figsize=(13,7))\n",
    "# create the line plot\n",
    "ax = plt.plot( k_values, coherences )\n",
    "plt.xticks(k_values)\n",
    "plt.xlabel(\"Number of Topics\")\n",
    "plt.ylabel(\"Mean Coherence\")\n",
    "# add the points\n",
    "plt.scatter( k_values, coherences, s=120)\n",
    "# find and annotate the maximum point on the plot\n",
    "ymax = max(coherences)\n",
    "xpos = coherences.index(ymax)\n",
    "best_k = k_values[xpos]\n",
    "plt.annotate( \"k=%d\" % best_k, xy=(best_k, ymax), xytext=(best_k, ymax), textcoords=\"offset points\", fontsize=16)\n",
    "# show the plot\n",
    "plt.show()"
   ]
  },
  {
   "cell_type": "code",
   "execution_count": 20,
   "metadata": {},
   "outputs": [],
   "source": [
    "k = best_k\n",
    "# get the model that we generated earlier.\n",
    "W = topic_models[k-kmin][1]\n",
    "H = topic_models[k-kmin][2]"
   ]
  },
  {
   "cell_type": "code",
   "execution_count": 21,
   "metadata": {},
   "outputs": [
    {
     "name": "stdout",
     "output_type": "stream",
     "text": [
      "Topic 01: pay, paid, month, paying, work, just, help, want, time, bills\n",
      "Topic 02: credit, report, score, reporting, bureaus, reports, removed, reported, bureau, agencies\n",
      "Topic 03: account, closed, checking, opened, open, close, new, funds, reported, savings\n",
      "Topic 04: inquiry, fraudulent, view, credit, unauthorized, authorized, personal, remove, immediately, requested\n",
      "Topic 05: told, said, called, asked, did, got, supervisor, spoke, send, wanted\n",
      "Topic 06: home, house, help, years, equity, husband, trying, family, lien, foreclosure\n",
      "Topic 07: card, credit, use, cards, new, citi, debit, purchase, purchases, limit\n",
      "Topic 08: fargo, wells, funds, income, dealer, charge, bank, line, property, representative\n",
      "Topic 09: 00, total, 100, month, 15, 1000, 500, 200, paid, 25\n",
      "Topic 10: mortgage, nationstar, sold, servicing, refinance, new, seterus, current, payoff, house\n",
      "Topic 11: debt, collector, collect, owe, creditor, original, validation, owed, alleged, recovery\n",
      "Topic 12: bank, america, boa, branch, funds, td, transaction, went, synchrony, fraud\n",
      "Topic 13: chase, morgan, jp, bank, policy, charge, representative, cashed, claim, checking\n",
      "Topic 14: letter, sent, received, stating, send, address, letters, mail, dated, response\n",
      "Topic 15: check, checks, cashed, deposit, cash, deposited, funds, cleared, returned, bank\n",
      "Topic 16: ocwen, servicing, llc, foreclosure, cfpb, mortgage, servicer, complaint, issue, principal\n",
      "Topic 17: number, phone, calls, calling, message, work, address, person, numbers, cell\n",
      "Topic 18: insurance, policy, flood, coverage, homeowners, medical, hospital, paid, covered, claim\n",
      "Topic 19: loans, navient, student, private, school, college, repayment, federal, income, signer\n",
      "Topic 20: fee, fees, late, charged, overdraft, charge, charges, annual, 35, transaction\n",
      "Topic 21: experian, report, dispute, online, incorrect, disputes, disputed, things, try, free\n",
      "Topic 22: collection, agency, collections, medical, services, apartment, agencies, removed, dispute, contacted\n",
      "Topic 23: car, vehicle, ally, financial, dealership, santander, finance, purchased, lease, repossession\n",
      "Topic 24: sale, short, property, foreclosure, offer, buyer, house, lender, date, deed\n",
      "Topic 25: rate, lower, appraisal, rates, higher, refinance, lock, fixed, score, closing\n",
      "Topic 26: payment, late, make, date, month, day, days, online, monthly, minimum\n",
      "Topic 27: equifax, report, file, lien, dispute, remove, deleted, tax, disputed, results\n",
      "Topic 28: loan, officer, lender, applied, took, refinance, servicing, application, student, approved\n",
      "Topic 29: modification, documents, trial, hamp, process, paperwork, denied, foreclosure, agreement, income\n",
      "Topic 30: money, funds, deposit, transfer, western, union, transaction, overdraft, hold, available\n",
      "Topic 31: information, reporting, consumer, investigation, transunion, provide, inaccurate, fcra, file, creditor\n",
      "Topic 32: paypal, item, purchase, funds, credit, buyer, transaction, seller, items, email\n",
      "Topic 33: 2015, days, received, today, stated, dated, advised, contacted, spoke, representative\n",
      "Topic 34: balance, paid, statement, transfer, date, statements, owed, minimum, charged, balances\n",
      "Topic 35: company, contacted, owe, claim, companies, information, title, stated, contact, complaints\n",
      "Topic 36: express, american, amex, charges, ame, charge, points, dispute, fraud, transactions\n",
      "Topic 37: capital, fraud, close, security, cards, got, issue, business, charge, reason\n",
      "Topic 38: escrow, taxes, tax, property, shortage, paid, analysis, increase, year, county\n",
      "Topic 39: accounts, fraud, open, theft, fraudulent, cards, identity, opened, ve, companies\n",
      "Topic 40: payments, make, making, monthly, time, months, late, month, principal, statements\n",
      "Topic 41: bankruptcy, court, filed, chapter, discharged, case, attorney, included, discharge, lawyer\n",
      "Topic 42: service, customer, days, online, email, issue, department, representative, refund, rep\n"
     ]
    }
   ],
   "source": [
    "for topic_index in range(k):\n",
    "    descriptor = get_descriptor( terms, H, topic_index, 10 )\n",
    "    str_descriptor = \", \".join( descriptor )\n",
    "    print(\"Topic %02d: %s\" % ( topic_index+1, str_descriptor ) )"
   ]
  },
  {
   "cell_type": "code",
   "execution_count": null,
   "metadata": {},
   "outputs": [],
   "source": []
  }
 ],
 "metadata": {
  "kernelspec": {
   "display_name": "Python 3",
   "language": "python",
   "name": "python3"
  },
  "language_info": {
   "codemirror_mode": {
    "name": "ipython",
    "version": 3
   },
   "file_extension": ".py",
   "mimetype": "text/x-python",
   "name": "python",
   "nbconvert_exporter": "python",
   "pygments_lexer": "ipython3",
   "version": "3.7.3"
  }
 },
 "nbformat": 4,
 "nbformat_minor": 2
}

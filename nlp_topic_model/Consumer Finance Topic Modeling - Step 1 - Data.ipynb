{
 "cells": [
  {
   "cell_type": "code",
   "execution_count": null,
   "metadata": {},
   "outputs": [],
   "source": [
    "## CONSUMER FINANCE TOPIC MODELING - NMF\n",
    "\n",
    "### Step - 1 : Data Preparation"
   ]
  },
  {
   "cell_type": "code",
   "execution_count": 2,
   "metadata": {},
   "outputs": [
    {
     "name": "stderr",
     "output_type": "stream",
     "text": [
      "[nltk_data] Downloading package averaged_perceptron_tagger to\n",
      "[nltk_data]     /home/pabhijit/nltk_data...\n",
      "[nltk_data]   Package averaged_perceptron_tagger is already up-to-\n",
      "[nltk_data]       date!\n",
      "[nltk_data] Downloading package wordnet to /home/pabhijit/nltk_data...\n",
      "[nltk_data]   Package wordnet is already up-to-date!\n"
     ]
    },
    {
     "data": {
      "text/plain": [
       "True"
      ]
     },
     "execution_count": 2,
     "metadata": {},
     "output_type": "execute_result"
    }
   ],
   "source": [
    "import pandas as pd\n",
    "from sklearn.feature_extraction.text import TfidfVectorizer\n",
    "from sklearn.feature_extraction import text\n",
    "from sklearn.decomposition import NMF\n",
    "import numpy as np\n",
    "import pickle\n",
    "import warnings  \n",
    "warnings.filterwarnings(\"ignore\", category=DeprecationWarning)\n",
    "warnings.filterwarnings('ignore')\n",
    "import matplotlib.pyplot as plt\n",
    "%matplotlib inline\n",
    "\n",
    "import nltk \n",
    "# from nltk.corpus import stopwords\n",
    "from nltk import word_tokenize, pos_tag\n",
    "# from nltk.stem import PorterStemmer\n",
    "nltk.download('averaged_perceptron_tagger')\n",
    "nltk.download('wordnet')\n",
    "nltk.download('punkt')"
   ]
  },
  {
   "cell_type": "code",
   "execution_count": 5,
   "metadata": {},
   "outputs": [],
   "source": [
    "df_orig = pd.read_csv(\"~/data/consumer_complaints.csv\")"
   ]
  },
  {
   "cell_type": "code",
   "execution_count": 6,
   "metadata": {},
   "outputs": [
    {
     "data": {
      "text/plain": [
       "(555957, 18)"
      ]
     },
     "execution_count": 6,
     "metadata": {},
     "output_type": "execute_result"
    }
   ],
   "source": [
    "df_orig.shape"
   ]
  },
  {
   "cell_type": "code",
   "execution_count": 7,
   "metadata": {},
   "outputs": [
    {
     "data": {
      "text/html": [
       "<div>\n",
       "<style scoped>\n",
       "    .dataframe tbody tr th:only-of-type {\n",
       "        vertical-align: middle;\n",
       "    }\n",
       "\n",
       "    .dataframe tbody tr th {\n",
       "        vertical-align: top;\n",
       "    }\n",
       "\n",
       "    .dataframe thead th {\n",
       "        text-align: right;\n",
       "    }\n",
       "</style>\n",
       "<table border=\"1\" class=\"dataframe\">\n",
       "  <thead>\n",
       "    <tr style=\"text-align: right;\">\n",
       "      <th></th>\n",
       "      <th>date_received</th>\n",
       "      <th>product</th>\n",
       "      <th>sub_product</th>\n",
       "      <th>issue</th>\n",
       "      <th>sub_issue</th>\n",
       "      <th>consumer_complaint_narrative</th>\n",
       "      <th>company_public_response</th>\n",
       "      <th>company</th>\n",
       "      <th>state</th>\n",
       "      <th>zipcode</th>\n",
       "      <th>tags</th>\n",
       "      <th>consumer_consent_provided</th>\n",
       "      <th>submitted_via</th>\n",
       "      <th>date_sent_to_company</th>\n",
       "      <th>company_response_to_consumer</th>\n",
       "      <th>timely_response</th>\n",
       "      <th>consumer_disputed?</th>\n",
       "      <th>complaint_id</th>\n",
       "    </tr>\n",
       "  </thead>\n",
       "  <tbody>\n",
       "    <tr>\n",
       "      <th>0</th>\n",
       "      <td>08/30/2013</td>\n",
       "      <td>Mortgage</td>\n",
       "      <td>Other mortgage</td>\n",
       "      <td>Loan modification,collection,foreclosure</td>\n",
       "      <td>NaN</td>\n",
       "      <td>NaN</td>\n",
       "      <td>NaN</td>\n",
       "      <td>U.S. Bancorp</td>\n",
       "      <td>CA</td>\n",
       "      <td>95993</td>\n",
       "      <td>NaN</td>\n",
       "      <td>NaN</td>\n",
       "      <td>Referral</td>\n",
       "      <td>09/03/2013</td>\n",
       "      <td>Closed with explanation</td>\n",
       "      <td>Yes</td>\n",
       "      <td>Yes</td>\n",
       "      <td>511074</td>\n",
       "    </tr>\n",
       "    <tr>\n",
       "      <th>1</th>\n",
       "      <td>08/30/2013</td>\n",
       "      <td>Mortgage</td>\n",
       "      <td>Other mortgage</td>\n",
       "      <td>Loan servicing, payments, escrow account</td>\n",
       "      <td>NaN</td>\n",
       "      <td>NaN</td>\n",
       "      <td>NaN</td>\n",
       "      <td>Wells Fargo &amp; Company</td>\n",
       "      <td>CA</td>\n",
       "      <td>91104</td>\n",
       "      <td>NaN</td>\n",
       "      <td>NaN</td>\n",
       "      <td>Referral</td>\n",
       "      <td>09/03/2013</td>\n",
       "      <td>Closed with explanation</td>\n",
       "      <td>Yes</td>\n",
       "      <td>Yes</td>\n",
       "      <td>511080</td>\n",
       "    </tr>\n",
       "    <tr>\n",
       "      <th>2</th>\n",
       "      <td>08/30/2013</td>\n",
       "      <td>Credit reporting</td>\n",
       "      <td>NaN</td>\n",
       "      <td>Incorrect information on credit report</td>\n",
       "      <td>Account status</td>\n",
       "      <td>NaN</td>\n",
       "      <td>NaN</td>\n",
       "      <td>Wells Fargo &amp; Company</td>\n",
       "      <td>NY</td>\n",
       "      <td>11764</td>\n",
       "      <td>NaN</td>\n",
       "      <td>NaN</td>\n",
       "      <td>Postal mail</td>\n",
       "      <td>09/18/2013</td>\n",
       "      <td>Closed with explanation</td>\n",
       "      <td>Yes</td>\n",
       "      <td>No</td>\n",
       "      <td>510473</td>\n",
       "    </tr>\n",
       "    <tr>\n",
       "      <th>3</th>\n",
       "      <td>08/30/2013</td>\n",
       "      <td>Student loan</td>\n",
       "      <td>Non-federal student loan</td>\n",
       "      <td>Repaying your loan</td>\n",
       "      <td>Repaying your loan</td>\n",
       "      <td>NaN</td>\n",
       "      <td>NaN</td>\n",
       "      <td>Navient Solutions, Inc.</td>\n",
       "      <td>MD</td>\n",
       "      <td>21402</td>\n",
       "      <td>NaN</td>\n",
       "      <td>NaN</td>\n",
       "      <td>Email</td>\n",
       "      <td>08/30/2013</td>\n",
       "      <td>Closed with explanation</td>\n",
       "      <td>Yes</td>\n",
       "      <td>Yes</td>\n",
       "      <td>510326</td>\n",
       "    </tr>\n",
       "    <tr>\n",
       "      <th>4</th>\n",
       "      <td>08/30/2013</td>\n",
       "      <td>Debt collection</td>\n",
       "      <td>Credit card</td>\n",
       "      <td>False statements or representation</td>\n",
       "      <td>Attempted to collect wrong amount</td>\n",
       "      <td>NaN</td>\n",
       "      <td>NaN</td>\n",
       "      <td>Resurgent Capital Services L.P.</td>\n",
       "      <td>GA</td>\n",
       "      <td>30106</td>\n",
       "      <td>NaN</td>\n",
       "      <td>NaN</td>\n",
       "      <td>Web</td>\n",
       "      <td>08/30/2013</td>\n",
       "      <td>Closed with explanation</td>\n",
       "      <td>Yes</td>\n",
       "      <td>Yes</td>\n",
       "      <td>511067</td>\n",
       "    </tr>\n",
       "  </tbody>\n",
       "</table>\n",
       "</div>"
      ],
      "text/plain": [
       "  date_received           product               sub_product  \\\n",
       "0    08/30/2013          Mortgage            Other mortgage   \n",
       "1    08/30/2013          Mortgage            Other mortgage   \n",
       "2    08/30/2013  Credit reporting                       NaN   \n",
       "3    08/30/2013      Student loan  Non-federal student loan   \n",
       "4    08/30/2013   Debt collection               Credit card   \n",
       "\n",
       "                                      issue  \\\n",
       "0  Loan modification,collection,foreclosure   \n",
       "1  Loan servicing, payments, escrow account   \n",
       "2    Incorrect information on credit report   \n",
       "3                        Repaying your loan   \n",
       "4        False statements or representation   \n",
       "\n",
       "                           sub_issue consumer_complaint_narrative  \\\n",
       "0                                NaN                          NaN   \n",
       "1                                NaN                          NaN   \n",
       "2                     Account status                          NaN   \n",
       "3                 Repaying your loan                          NaN   \n",
       "4  Attempted to collect wrong amount                          NaN   \n",
       "\n",
       "  company_public_response                          company state zipcode tags  \\\n",
       "0                     NaN                     U.S. Bancorp    CA   95993  NaN   \n",
       "1                     NaN            Wells Fargo & Company    CA   91104  NaN   \n",
       "2                     NaN            Wells Fargo & Company    NY   11764  NaN   \n",
       "3                     NaN          Navient Solutions, Inc.    MD   21402  NaN   \n",
       "4                     NaN  Resurgent Capital Services L.P.    GA   30106  NaN   \n",
       "\n",
       "  consumer_consent_provided submitted_via date_sent_to_company  \\\n",
       "0                       NaN      Referral           09/03/2013   \n",
       "1                       NaN      Referral           09/03/2013   \n",
       "2                       NaN   Postal mail           09/18/2013   \n",
       "3                       NaN         Email           08/30/2013   \n",
       "4                       NaN           Web           08/30/2013   \n",
       "\n",
       "  company_response_to_consumer timely_response consumer_disputed?  \\\n",
       "0      Closed with explanation             Yes                Yes   \n",
       "1      Closed with explanation             Yes                Yes   \n",
       "2      Closed with explanation             Yes                 No   \n",
       "3      Closed with explanation             Yes                Yes   \n",
       "4      Closed with explanation             Yes                Yes   \n",
       "\n",
       "   complaint_id  \n",
       "0        511074  \n",
       "1        511080  \n",
       "2        510473  \n",
       "3        510326  \n",
       "4        511067  "
      ]
     },
     "execution_count": 7,
     "metadata": {},
     "output_type": "execute_result"
    }
   ],
   "source": [
    "df_orig.head()"
   ]
  },
  {
   "cell_type": "code",
   "execution_count": 8,
   "metadata": {},
   "outputs": [
    {
     "data": {
      "text/plain": [
       "489151"
      ]
     },
     "execution_count": 8,
     "metadata": {},
     "output_type": "execute_result"
    }
   ],
   "source": [
    "# Check how many rows have missing values for consumer_complaint_narrative column\n",
    "df_orig.consumer_complaint_narrative.isnull().values.sum()"
   ]
  },
  {
   "cell_type": "code",
   "execution_count": 9,
   "metadata": {},
   "outputs": [],
   "source": [
    "# extract only the relevant column for this project\n",
    "df_orig = df_orig.loc[:,['consumer_complaint_narrative']]"
   ]
  },
  {
   "cell_type": "code",
   "execution_count": 10,
   "metadata": {},
   "outputs": [
    {
     "data": {
      "text/plain": [
       "(66806, 1)"
      ]
     },
     "execution_count": 10,
     "metadata": {},
     "output_type": "execute_result"
    }
   ],
   "source": [
    "# Exclude all rows with null consumer_complaint_narrative\n",
    "df_orig.dropna(inplace=True)\n",
    "df_orig.shape"
   ]
  },
  {
   "cell_type": "code",
   "execution_count": 11,
   "metadata": {},
   "outputs": [],
   "source": [
    "pd.set_option('max_colwidth', 1000)\n",
    "pd.options.display.max_rows = 500"
   ]
  },
  {
   "cell_type": "code",
   "execution_count": 12,
   "metadata": {},
   "outputs": [
    {
     "data": {
      "text/html": [
       "<div>\n",
       "<style scoped>\n",
       "    .dataframe tbody tr th:only-of-type {\n",
       "        vertical-align: middle;\n",
       "    }\n",
       "\n",
       "    .dataframe tbody tr th {\n",
       "        vertical-align: top;\n",
       "    }\n",
       "\n",
       "    .dataframe thead th {\n",
       "        text-align: right;\n",
       "    }\n",
       "</style>\n",
       "<table border=\"1\" class=\"dataframe\">\n",
       "  <thead>\n",
       "    <tr style=\"text-align: right;\">\n",
       "      <th></th>\n",
       "      <th>Doc_Id</th>\n",
       "      <th>consumer_complaint_narrative</th>\n",
       "    </tr>\n",
       "  </thead>\n",
       "  <tbody>\n",
       "    <tr>\n",
       "      <th>190126</th>\n",
       "      <td>0</td>\n",
       "      <td>XXXX has claimed I owe them {$27.00} for XXXX years despite the PROOF of PAYMENT I sent them : canceled check and their ownPAID INVOICE for {$27.00}! \\nThey continue to insist I owe them and collection agencies are after me. \\nHow can I stop this harassment for a bill I already paid four years ago? \\n</td>\n",
       "    </tr>\n",
       "    <tr>\n",
       "      <th>190135</th>\n",
       "      <td>1</td>\n",
       "      <td>Due to inconsistencies in the amount owed that I was told by M &amp; T Bank and the amount that was reported to the credit reporting agencies, I was advised to write a good will letter in order to address the issue and request the negative entry be removed from my credit report all together. I had a vehicle that was stolen and it was declared a total loss by insurance company. The insurance company and the GAP insurancw companypaid the outstanding balance of the loan, but I was told by M &amp; T Bank that there was still a balance due on the loan. In good faith, without having received any proof as to why there was still a balance, I made a partial payment towards the remaining debt. I then sent the goodwill letter still offering to pay the remainder of the debt, but in exchange for the removal of the negative entry on my credit report. At one point, in XXXX 2015, per my credit monitoring agency, it showed a delinquent balance of {$0.00}, but when I checked my credit report again on XXXX X...</td>\n",
       "    </tr>\n",
       "    <tr>\n",
       "      <th>190155</th>\n",
       "      <td>2</td>\n",
       "      <td>In XX/XX/XXXX my wages that I earned at my job decreased by almost half, by XX/XX/XXXX I knew I was in trouble with my home loan. I began contacting WFB whom my home loan is with, for assitance and options. \\nIn early XX/XX/XXXX I began the Loan Modification process with Wells Fargo Bank. I was told that they would not assist me with anything financial on my home loan until I fell 90 days behind, though at the time I started to inquire for assistance from WFB I was only a few weeks behind. So, I began working with a program called XXXX. They approved me for a variety of assistence and reached out to Wells Fargo Bank to determine what they could assist with. Wells Fargo then turned down the assistance from XXXX and finally offered to do a Loan Modification for me. The outcome was totally unknow about what I would be offered in the end by WFB for assistance. Wells Fargo lost my paperwork twice during this process, so it took 2 months from the time I started to the time my paperwork b...</td>\n",
       "    </tr>\n",
       "    <tr>\n",
       "      <th>190207</th>\n",
       "      <td>3</td>\n",
       "      <td>I have an open and current mortgage with Chase Bank # XXXX. Chase is reporting the loan payments to XXXX but XXXX is surpressing the information and reporting the loan as Discharged in BK. This mortgage was reaffirmed in a Chapter XXXX BK discharged dated XXXX/XXXX/2013. Chase keeps referring to BK Law for Chapter XXXX and we keep providing documentation for Chapter XXXX, and the account should be open and current with all the payments \\n</td>\n",
       "    </tr>\n",
       "    <tr>\n",
       "      <th>190208</th>\n",
       "      <td>4</td>\n",
       "      <td>XXXX was submitted XX/XX/XXXX. At the time I submitted this complaint, I had dealt with Rushmore Mortgage directly endeavoring to get them to stop the continuous daily calls I was receiving trying to collect on a mortgage for which I was not responsible due to bankruptcy. They denied having knowledge of the bankruptcy, even though I had spoken with them about it repeatedly and had written them repeatedly referencing the bankruptcy requesting them to cease the pursuit, they continued to do so. When they were unable to trick me into paying, force me into paying in retaliation they placed reported to my credit bureaus a past due mortgage amount that had been discharged in Federal Court. On XX/XX/XXXX Rushmore responded the referenced complaint indicating that they would remove the reporting from my bureau, yet it is still there now in XX/XX/XXXX. I would like them to remove it immediately and send me a letter indicating that it should not have been there in the first place and they ar...</td>\n",
       "    </tr>\n",
       "  </tbody>\n",
       "</table>\n",
       "</div>"
      ],
      "text/plain": [
       "        Doc_Id  \\\n",
       "190126       0   \n",
       "190135       1   \n",
       "190155       2   \n",
       "190207       3   \n",
       "190208       4   \n",
       "\n",
       "                                                                                                                                                                                                                                                                                                                                                                                                                                                                                                                                                                                                                                                                                                                                                                                                                                                                                                                                                                                                                   consumer_complaint_narrative  \n",
       "190126                                                                                                                                                                                                                                                                                                                                                                                                                                                                                                                                                                                                                                                                                                                           XXXX has claimed I owe them {$27.00} for XXXX years despite the PROOF of PAYMENT I sent them : canceled check and their ownPAID INVOICE for {$27.00}! \\nThey continue to insist I owe them and collection agencies are after me. \\nHow can I stop this harassment for a bill I already paid four years ago? \\n  \n",
       "190135  Due to inconsistencies in the amount owed that I was told by M & T Bank and the amount that was reported to the credit reporting agencies, I was advised to write a good will letter in order to address the issue and request the negative entry be removed from my credit report all together. I had a vehicle that was stolen and it was declared a total loss by insurance company. The insurance company and the GAP insurancw companypaid the outstanding balance of the loan, but I was told by M & T Bank that there was still a balance due on the loan. In good faith, without having received any proof as to why there was still a balance, I made a partial payment towards the remaining debt. I then sent the goodwill letter still offering to pay the remainder of the debt, but in exchange for the removal of the negative entry on my credit report. At one point, in XXXX 2015, per my credit monitoring agency, it showed a delinquent balance of {$0.00}, but when I checked my credit report again on XXXX X...  \n",
       "190155  In XX/XX/XXXX my wages that I earned at my job decreased by almost half, by XX/XX/XXXX I knew I was in trouble with my home loan. I began contacting WFB whom my home loan is with, for assitance and options. \\nIn early XX/XX/XXXX I began the Loan Modification process with Wells Fargo Bank. I was told that they would not assist me with anything financial on my home loan until I fell 90 days behind, though at the time I started to inquire for assistance from WFB I was only a few weeks behind. So, I began working with a program called XXXX. They approved me for a variety of assistence and reached out to Wells Fargo Bank to determine what they could assist with. Wells Fargo then turned down the assistance from XXXX and finally offered to do a Loan Modification for me. The outcome was totally unknow about what I would be offered in the end by WFB for assistance. Wells Fargo lost my paperwork twice during this process, so it took 2 months from the time I started to the time my paperwork b...  \n",
       "190207                                                                                                                                                                                                                                                                                                                                                                                                                                                                                                                                                                               I have an open and current mortgage with Chase Bank # XXXX. Chase is reporting the loan payments to XXXX but XXXX is surpressing the information and reporting the loan as Discharged in BK. This mortgage was reaffirmed in a Chapter XXXX BK discharged dated XXXX/XXXX/2013. Chase keeps referring to BK Law for Chapter XXXX and we keep providing documentation for Chapter XXXX, and the account should be open and current with all the payments \\n  \n",
       "190208  XXXX was submitted XX/XX/XXXX. At the time I submitted this complaint, I had dealt with Rushmore Mortgage directly endeavoring to get them to stop the continuous daily calls I was receiving trying to collect on a mortgage for which I was not responsible due to bankruptcy. They denied having knowledge of the bankruptcy, even though I had spoken with them about it repeatedly and had written them repeatedly referencing the bankruptcy requesting them to cease the pursuit, they continued to do so. When they were unable to trick me into paying, force me into paying in retaliation they placed reported to my credit bureaus a past due mortgage amount that had been discharged in Federal Court. On XX/XX/XXXX Rushmore responded the referenced complaint indicating that they would remove the reporting from my bureau, yet it is still there now in XX/XX/XXXX. I would like them to remove it immediately and send me a letter indicating that it should not have been there in the first place and they ar...  "
      ]
     },
     "execution_count": 12,
     "metadata": {},
     "output_type": "execute_result"
    }
   ],
   "source": [
    "# Create a doc id for merging the results back to the original file \n",
    "df_orig.insert(0, 'Doc_Id', range(0, 0 + len(df_orig)))\n",
    "df_orig.head()"
   ]
  },
  {
   "cell_type": "code",
   "execution_count": 13,
   "metadata": {},
   "outputs": [],
   "source": [
    "# save for use later\n",
    "df_orig.to_pickle('df_orig.pkl')"
   ]
  },
  {
   "cell_type": "code",
   "execution_count": 14,
   "metadata": {},
   "outputs": [],
   "source": [
    "df = df_orig.loc[:,['consumer_complaint_narrative','Doc_Id']]"
   ]
  },
  {
   "cell_type": "code",
   "execution_count": 15,
   "metadata": {},
   "outputs": [
    {
     "data": {
      "text/html": [
       "<div>\n",
       "<style scoped>\n",
       "    .dataframe tbody tr th:only-of-type {\n",
       "        vertical-align: middle;\n",
       "    }\n",
       "\n",
       "    .dataframe tbody tr th {\n",
       "        vertical-align: top;\n",
       "    }\n",
       "\n",
       "    .dataframe thead th {\n",
       "        text-align: right;\n",
       "    }\n",
       "</style>\n",
       "<table border=\"1\" class=\"dataframe\">\n",
       "  <thead>\n",
       "    <tr style=\"text-align: right;\">\n",
       "      <th></th>\n",
       "      <th>consumer_complaint_narrative</th>\n",
       "      <th>Doc_Id</th>\n",
       "      <th>word_count</th>\n",
       "    </tr>\n",
       "  </thead>\n",
       "  <tbody>\n",
       "    <tr>\n",
       "      <th>190126</th>\n",
       "      <td>XXXX has claimed I owe them {$27.00} for XXXX years despite the PROOF of PAYMENT I sent them : canceled check and their ownPAID INVOICE for {$27.00}! \\nThey continue to insist I owe them and collection agencies are after me. \\nHow can I stop this harassment for a bill I already paid four years ago? \\n</td>\n",
       "      <td>0</td>\n",
       "      <td>56</td>\n",
       "    </tr>\n",
       "    <tr>\n",
       "      <th>190135</th>\n",
       "      <td>Due to inconsistencies in the amount owed that I was told by M &amp; T Bank and the amount that was reported to the credit reporting agencies, I was advised to write a good will letter in order to address the issue and request the negative entry be removed from my credit report all together. I had a vehicle that was stolen and it was declared a total loss by insurance company. The insurance company and the GAP insurancw companypaid the outstanding balance of the loan, but I was told by M &amp; T Bank that there was still a balance due on the loan. In good faith, without having received any proof as to why there was still a balance, I made a partial payment towards the remaining debt. I then sent the goodwill letter still offering to pay the remainder of the debt, but in exchange for the removal of the negative entry on my credit report. At one point, in XXXX 2015, per my credit monitoring agency, it showed a delinquent balance of {$0.00}, but when I checked my credit report again on XXXX X...</td>\n",
       "      <td>1</td>\n",
       "      <td>249</td>\n",
       "    </tr>\n",
       "    <tr>\n",
       "      <th>190155</th>\n",
       "      <td>In XX/XX/XXXX my wages that I earned at my job decreased by almost half, by XX/XX/XXXX I knew I was in trouble with my home loan. I began contacting WFB whom my home loan is with, for assitance and options. \\nIn early XX/XX/XXXX I began the Loan Modification process with Wells Fargo Bank. I was told that they would not assist me with anything financial on my home loan until I fell 90 days behind, though at the time I started to inquire for assistance from WFB I was only a few weeks behind. So, I began working with a program called XXXX. They approved me for a variety of assistence and reached out to Wells Fargo Bank to determine what they could assist with. Wells Fargo then turned down the assistance from XXXX and finally offered to do a Loan Modification for me. The outcome was totally unknow about what I would be offered in the end by WFB for assistance. Wells Fargo lost my paperwork twice during this process, so it took 2 months from the time I started to the time my paperwork b...</td>\n",
       "      <td>2</td>\n",
       "      <td>667</td>\n",
       "    </tr>\n",
       "    <tr>\n",
       "      <th>190207</th>\n",
       "      <td>I have an open and current mortgage with Chase Bank # XXXX. Chase is reporting the loan payments to XXXX but XXXX is surpressing the information and reporting the loan as Discharged in BK. This mortgage was reaffirmed in a Chapter XXXX BK discharged dated XXXX/XXXX/2013. Chase keeps referring to BK Law for Chapter XXXX and we keep providing documentation for Chapter XXXX, and the account should be open and current with all the payments \\n</td>\n",
       "      <td>3</td>\n",
       "      <td>76</td>\n",
       "    </tr>\n",
       "    <tr>\n",
       "      <th>190208</th>\n",
       "      <td>XXXX was submitted XX/XX/XXXX. At the time I submitted this complaint, I had dealt with Rushmore Mortgage directly endeavoring to get them to stop the continuous daily calls I was receiving trying to collect on a mortgage for which I was not responsible due to bankruptcy. They denied having knowledge of the bankruptcy, even though I had spoken with them about it repeatedly and had written them repeatedly referencing the bankruptcy requesting them to cease the pursuit, they continued to do so. When they were unable to trick me into paying, force me into paying in retaliation they placed reported to my credit bureaus a past due mortgage amount that had been discharged in Federal Court. On XX/XX/XXXX Rushmore responded the referenced complaint indicating that they would remove the reporting from my bureau, yet it is still there now in XX/XX/XXXX. I would like them to remove it immediately and send me a letter indicating that it should not have been there in the first place and they ar...</td>\n",
       "      <td>4</td>\n",
       "      <td>260</td>\n",
       "    </tr>\n",
       "  </tbody>\n",
       "</table>\n",
       "</div>"
      ],
      "text/plain": [
       "                                                                                                                                                                                                                                                                                                                                                                                                                                                                                                                                                                                                                                                                                                                                                                                                                                                                                                                                                                                                                   consumer_complaint_narrative  \\\n",
       "190126                                                                                                                                                                                                                                                                                                                                                                                                                                                                                                                                                                                                                                                                                                                           XXXX has claimed I owe them {$27.00} for XXXX years despite the PROOF of PAYMENT I sent them : canceled check and their ownPAID INVOICE for {$27.00}! \\nThey continue to insist I owe them and collection agencies are after me. \\nHow can I stop this harassment for a bill I already paid four years ago? \\n   \n",
       "190135  Due to inconsistencies in the amount owed that I was told by M & T Bank and the amount that was reported to the credit reporting agencies, I was advised to write a good will letter in order to address the issue and request the negative entry be removed from my credit report all together. I had a vehicle that was stolen and it was declared a total loss by insurance company. The insurance company and the GAP insurancw companypaid the outstanding balance of the loan, but I was told by M & T Bank that there was still a balance due on the loan. In good faith, without having received any proof as to why there was still a balance, I made a partial payment towards the remaining debt. I then sent the goodwill letter still offering to pay the remainder of the debt, but in exchange for the removal of the negative entry on my credit report. At one point, in XXXX 2015, per my credit monitoring agency, it showed a delinquent balance of {$0.00}, but when I checked my credit report again on XXXX X...   \n",
       "190155  In XX/XX/XXXX my wages that I earned at my job decreased by almost half, by XX/XX/XXXX I knew I was in trouble with my home loan. I began contacting WFB whom my home loan is with, for assitance and options. \\nIn early XX/XX/XXXX I began the Loan Modification process with Wells Fargo Bank. I was told that they would not assist me with anything financial on my home loan until I fell 90 days behind, though at the time I started to inquire for assistance from WFB I was only a few weeks behind. So, I began working with a program called XXXX. They approved me for a variety of assistence and reached out to Wells Fargo Bank to determine what they could assist with. Wells Fargo then turned down the assistance from XXXX and finally offered to do a Loan Modification for me. The outcome was totally unknow about what I would be offered in the end by WFB for assistance. Wells Fargo lost my paperwork twice during this process, so it took 2 months from the time I started to the time my paperwork b...   \n",
       "190207                                                                                                                                                                                                                                                                                                                                                                                                                                                                                                                                                                               I have an open and current mortgage with Chase Bank # XXXX. Chase is reporting the loan payments to XXXX but XXXX is surpressing the information and reporting the loan as Discharged in BK. This mortgage was reaffirmed in a Chapter XXXX BK discharged dated XXXX/XXXX/2013. Chase keeps referring to BK Law for Chapter XXXX and we keep providing documentation for Chapter XXXX, and the account should be open and current with all the payments \\n   \n",
       "190208  XXXX was submitted XX/XX/XXXX. At the time I submitted this complaint, I had dealt with Rushmore Mortgage directly endeavoring to get them to stop the continuous daily calls I was receiving trying to collect on a mortgage for which I was not responsible due to bankruptcy. They denied having knowledge of the bankruptcy, even though I had spoken with them about it repeatedly and had written them repeatedly referencing the bankruptcy requesting them to cease the pursuit, they continued to do so. When they were unable to trick me into paying, force me into paying in retaliation they placed reported to my credit bureaus a past due mortgage amount that had been discharged in Federal Court. On XX/XX/XXXX Rushmore responded the referenced complaint indicating that they would remove the reporting from my bureau, yet it is still there now in XX/XX/XXXX. I would like them to remove it immediately and send me a letter indicating that it should not have been there in the first place and they ar...   \n",
       "\n",
       "        Doc_Id  word_count  \n",
       "190126       0          56  \n",
       "190135       1         249  \n",
       "190155       2         667  \n",
       "190207       3          76  \n",
       "190208       4         260  "
      ]
     },
     "execution_count": 15,
     "metadata": {},
     "output_type": "execute_result"
    }
   ],
   "source": [
    "# Get the word count for each document\n",
    "df['word_count'] = df['consumer_complaint_narrative'].apply(lambda x: len(str(x).split(\" \")))\n",
    "df.head()"
   ]
  },
  {
   "cell_type": "code",
   "execution_count": 16,
   "metadata": {},
   "outputs": [
    {
     "data": {
      "text/plain": [
       "count    66806.000000\n",
       "mean       191.662830\n",
       "std        166.875112\n",
       "min          2.000000\n",
       "25%         72.000000\n",
       "50%        137.000000\n",
       "75%        255.000000\n",
       "max       1285.000000\n",
       "Name: word_count, dtype: float64"
      ]
     },
     "execution_count": 16,
     "metadata": {},
     "output_type": "execute_result"
    }
   ],
   "source": [
    "# Summary statistics\n",
    "df.word_count.describe()"
   ]
  },
  {
   "cell_type": "code",
   "execution_count": 17,
   "metadata": {},
   "outputs": [],
   "source": [
    "# just to get a sizable data to work with\n",
    "df1= df[(df['word_count']>=191)&(df['word_count']<=255)]"
   ]
  },
  {
   "cell_type": "code",
   "execution_count": 18,
   "metadata": {},
   "outputs": [
    {
     "data": {
      "text/plain": [
       "(7491, 3)"
      ]
     },
     "execution_count": 18,
     "metadata": {},
     "output_type": "execute_result"
    }
   ],
   "source": [
    "df1.shape"
   ]
  },
  {
   "cell_type": "code",
   "execution_count": 19,
   "metadata": {},
   "outputs": [
    {
     "data": {
      "text/html": [
       "<div>\n",
       "<style scoped>\n",
       "    .dataframe tbody tr th:only-of-type {\n",
       "        vertical-align: middle;\n",
       "    }\n",
       "\n",
       "    .dataframe tbody tr th {\n",
       "        vertical-align: top;\n",
       "    }\n",
       "\n",
       "    .dataframe thead th {\n",
       "        text-align: right;\n",
       "    }\n",
       "</style>\n",
       "<table border=\"1\" class=\"dataframe\">\n",
       "  <thead>\n",
       "    <tr style=\"text-align: right;\">\n",
       "      <th></th>\n",
       "      <th>consumer_complaint_narrative</th>\n",
       "      <th>Doc_Id</th>\n",
       "      <th>word_count</th>\n",
       "    </tr>\n",
       "  </thead>\n",
       "  <tbody>\n",
       "    <tr>\n",
       "      <th>190135</th>\n",
       "      <td>Due to inconsistencies in the amount owed that I was told by M &amp; T Bank and the amount that was reported to the credit reporting agencies, I was advised to write a good will letter in order to address the issue and request the negative entry be removed from my credit report all together. I had a vehicle that was stolen and it was declared a total loss by insurance company. The insurance company and the GAP insurancw companypaid the outstanding balance of the loan, but I was told by M &amp; T Bank that there was still a balance due on the loan. In good faith, without having received any proof as to why there was still a balance, I made a partial payment towards the remaining debt. I then sent the goodwill letter still offering to pay the remainder of the debt, but in exchange for the removal of the negative entry on my credit report. At one point, in XXXX 2015, per my credit monitoring agency, it showed a delinquent balance of {$0.00}, but when I checked my credit report again on XXXX X...</td>\n",
       "      <td>1</td>\n",
       "      <td>249</td>\n",
       "    </tr>\n",
       "    <tr>\n",
       "      <th>191998</th>\n",
       "      <td>Around XXXX we consolidated our loans and paid off a loan to Chrysler financial for an automotive loan. In XX/XX/XXXX we applied for a lost title at our local town office in Tennessee. At this time it was made known to us that TD Financial XXXX XXXX XXXX XXXX XXXX lien on our title. I was directed to TD financial XXXX XXXX, then to My title Support XXXX, and back to TD financial to find that there is a \" balance due of {$85.00} '' for \" charges and fees ''. I have NEVER received any notifications from XXXX, TD Auto Finance or any other representative in the TEN to TWELVE YEARS since that loan was paid off. TD Auto Finance is located in XXXX Maine and I have never transacted business with them. I requested a supervisor call me to discuss the \" balance due '' on XXXX/XXXX/15, and 1 week has passed with no response despite the XXXX calls I have placed to their \" customer service department '' I find it very concerning and unethical that a corporation can quietly hold a \" balance due '...</td>\n",
       "      <td>35</td>\n",
       "      <td>201</td>\n",
       "    </tr>\n",
       "    <tr>\n",
       "      <th>192083</th>\n",
       "      <td>I was offered a trial modification by my servicer - Carrington. I accepted the offer. The first payment was due in the month of XXXX. As a member of the XXXX XXXX XXXX XXXX, I received 30 day XXXX in the month of XXXX. None-the-less I called Carrington to make the XXXX trial modification payment over the phone. Carrington refused to take the payment over the phone but instead demanded that I send via XXXX XXXX. Because of my service I explained to Carrington that I would have limited access to XXXX XXXX and I faxed my XXXX. Carrington stood firm in their unreasonableness. I was able to get to a XXXX XXXX office on XXXX XXXX, but Carrington refused to accept the payment because they claimed it was late. My Authorized XXXX Party representative called Carrington on XXXX separate occasions - XXXX XXXX, XXXX XXXX, and XXXX XXXX, 2015. The purpose of each call was to determine whether or not there was a scheduled foreclosure sale date. Each time the Authorized XXXX Party Representative w...</td>\n",
       "      <td>45</td>\n",
       "      <td>210</td>\n",
       "    </tr>\n",
       "    <tr>\n",
       "      <th>192137</th>\n",
       "      <td>Due to financial hardship, I have been unable to pay on XXXX of my student loans. I have been struggling for months and have contacted the lender via email and written letters. The only response I receive is that I must contact via phone between certain hours. I have told them multiple times that is impossible due to my work schedule. They have written and offered to settle or make arrangements and when I write them back they always state they can not help unless I CALL them. It 's as if they are purposefully contributing to the default my account has now entered. They last letter I received states that default will occur on XXXX XXXX, if I do not contact them. I checked my credit report and they had already reported default and placed with a collection agency ( 2 weeks prior to their date ). I emailed them regarding the situation and still they will not discuss anything in writing ONLY by phone. This makes no sense to me. \\nI can not consolidate the loan to another lender now that...</td>\n",
       "      <td>47</td>\n",
       "      <td>201</td>\n",
       "    </tr>\n",
       "    <tr>\n",
       "      <th>192150</th>\n",
       "      <td>I accepted a credit card off for the Barclays XXXX XXXX. The initial disclosure provided to me indicated a promotional rate of 0.00 APR on purchases ( 6 months ) and balance transfers ( for 15 months ). Upon receiving my card the disclosure provided did not reference the promotional rate on the balance transfers, therefore I called the company to discuss and was told the promotional was only on purchases. Therefore, I submitted a complaint through the bank 's website on XXXX/XXXX/15. After several back and forth responses and a letter received, it was still being indicated the promotional rate is only on purchases. As already expressed this is not what was initially disclosed to me and therefore this is deceptive to me as a consumer as I made a credit decision based on the initially information provided to me that appear to be false. I have provided the link below that provided the terms and conditions of the card that included the promotional rate of balance transfers. My other co...</td>\n",
       "      <td>49</td>\n",
       "      <td>192</td>\n",
       "    </tr>\n",
       "  </tbody>\n",
       "</table>\n",
       "</div>"
      ],
      "text/plain": [
       "                                                                                                                                                                                                                                                                                                                                                                                                                                                                                                                                                                                                                                                                                                                                                                                                                                                                                                                                                                                                                   consumer_complaint_narrative  \\\n",
       "190135  Due to inconsistencies in the amount owed that I was told by M & T Bank and the amount that was reported to the credit reporting agencies, I was advised to write a good will letter in order to address the issue and request the negative entry be removed from my credit report all together. I had a vehicle that was stolen and it was declared a total loss by insurance company. The insurance company and the GAP insurancw companypaid the outstanding balance of the loan, but I was told by M & T Bank that there was still a balance due on the loan. In good faith, without having received any proof as to why there was still a balance, I made a partial payment towards the remaining debt. I then sent the goodwill letter still offering to pay the remainder of the debt, but in exchange for the removal of the negative entry on my credit report. At one point, in XXXX 2015, per my credit monitoring agency, it showed a delinquent balance of {$0.00}, but when I checked my credit report again on XXXX X...   \n",
       "191998  Around XXXX we consolidated our loans and paid off a loan to Chrysler financial for an automotive loan. In XX/XX/XXXX we applied for a lost title at our local town office in Tennessee. At this time it was made known to us that TD Financial XXXX XXXX XXXX XXXX XXXX lien on our title. I was directed to TD financial XXXX XXXX, then to My title Support XXXX, and back to TD financial to find that there is a \" balance due of {$85.00} '' for \" charges and fees ''. I have NEVER received any notifications from XXXX, TD Auto Finance or any other representative in the TEN to TWELVE YEARS since that loan was paid off. TD Auto Finance is located in XXXX Maine and I have never transacted business with them. I requested a supervisor call me to discuss the \" balance due '' on XXXX/XXXX/15, and 1 week has passed with no response despite the XXXX calls I have placed to their \" customer service department '' I find it very concerning and unethical that a corporation can quietly hold a \" balance due '...   \n",
       "192083  I was offered a trial modification by my servicer - Carrington. I accepted the offer. The first payment was due in the month of XXXX. As a member of the XXXX XXXX XXXX XXXX, I received 30 day XXXX in the month of XXXX. None-the-less I called Carrington to make the XXXX trial modification payment over the phone. Carrington refused to take the payment over the phone but instead demanded that I send via XXXX XXXX. Because of my service I explained to Carrington that I would have limited access to XXXX XXXX and I faxed my XXXX. Carrington stood firm in their unreasonableness. I was able to get to a XXXX XXXX office on XXXX XXXX, but Carrington refused to accept the payment because they claimed it was late. My Authorized XXXX Party representative called Carrington on XXXX separate occasions - XXXX XXXX, XXXX XXXX, and XXXX XXXX, 2015. The purpose of each call was to determine whether or not there was a scheduled foreclosure sale date. Each time the Authorized XXXX Party Representative w...   \n",
       "192137  Due to financial hardship, I have been unable to pay on XXXX of my student loans. I have been struggling for months and have contacted the lender via email and written letters. The only response I receive is that I must contact via phone between certain hours. I have told them multiple times that is impossible due to my work schedule. They have written and offered to settle or make arrangements and when I write them back they always state they can not help unless I CALL them. It 's as if they are purposefully contributing to the default my account has now entered. They last letter I received states that default will occur on XXXX XXXX, if I do not contact them. I checked my credit report and they had already reported default and placed with a collection agency ( 2 weeks prior to their date ). I emailed them regarding the situation and still they will not discuss anything in writing ONLY by phone. This makes no sense to me. \\nI can not consolidate the loan to another lender now that...   \n",
       "192150  I accepted a credit card off for the Barclays XXXX XXXX. The initial disclosure provided to me indicated a promotional rate of 0.00 APR on purchases ( 6 months ) and balance transfers ( for 15 months ). Upon receiving my card the disclosure provided did not reference the promotional rate on the balance transfers, therefore I called the company to discuss and was told the promotional was only on purchases. Therefore, I submitted a complaint through the bank 's website on XXXX/XXXX/15. After several back and forth responses and a letter received, it was still being indicated the promotional rate is only on purchases. As already expressed this is not what was initially disclosed to me and therefore this is deceptive to me as a consumer as I made a credit decision based on the initially information provided to me that appear to be false. I have provided the link below that provided the terms and conditions of the card that included the promotional rate of balance transfers. My other co...   \n",
       "\n",
       "        Doc_Id  word_count  \n",
       "190135       1         249  \n",
       "191998      35         201  \n",
       "192083      45         210  \n",
       "192137      47         201  \n",
       "192150      49         192  "
      ]
     },
     "execution_count": 19,
     "metadata": {},
     "output_type": "execute_result"
    }
   ],
   "source": [
    "df1.head()"
   ]
  },
  {
   "cell_type": "code",
   "execution_count": 20,
   "metadata": {},
   "outputs": [
    {
     "data": {
      "text/html": [
       "<div>\n",
       "<style scoped>\n",
       "    .dataframe tbody tr th:only-of-type {\n",
       "        vertical-align: middle;\n",
       "    }\n",
       "\n",
       "    .dataframe tbody tr th {\n",
       "        vertical-align: top;\n",
       "    }\n",
       "\n",
       "    .dataframe thead th {\n",
       "        text-align: right;\n",
       "    }\n",
       "</style>\n",
       "<table border=\"1\" class=\"dataframe\">\n",
       "  <thead>\n",
       "    <tr style=\"text-align: right;\">\n",
       "      <th></th>\n",
       "      <th>consumer_complaint_narrative</th>\n",
       "      <th>Doc_Id</th>\n",
       "      <th>word_count</th>\n",
       "    </tr>\n",
       "  </thead>\n",
       "  <tbody>\n",
       "    <tr>\n",
       "      <th>190135</th>\n",
       "      <td>Due to inconsistencies in the amount owed that I was told by M &amp; T Bank and the amount that was reported to the credit reporting agencies, I was advised to write a good will letter in order to address the issue and request the negative entry be removed from my credit report all together. I had a vehicle that was stolen and it was declared a total loss by insurance company. The insurance company and the GAP insurancw companypaid the outstanding balance of the loan, but I was told by M &amp; T Bank that there was still a balance due on the loan. In good faith, without having received any proof as to why there was still a balance, I made a partial payment towards the remaining debt. I then sent the goodwill letter still offering to pay the remainder of the debt, but in exchange for the removal of the negative entry on my credit report. At one point, in  2015, per my credit monitoring agency, it showed a delinquent balance of $0.00, but when I checked my credit report again on   2015, ther...</td>\n",
       "      <td>1</td>\n",
       "      <td>249</td>\n",
       "    </tr>\n",
       "    <tr>\n",
       "      <th>191998</th>\n",
       "      <td>Around  we consolidated our loans and paid off a loan to Chrysler financial for an automotive loan. In  we applied for a lost title at our local town office in Tennessee. At this time it was made known to us that TD Financial      lien on our title. I was directed to TD financial  , then to My title Support , and back to TD financial to find that there is a \" balance due of $85.00 '' for \" charges and fees ''. I have NEVER received any notifications from , TD Auto Finance or any other representative in the TEN to TWELVE YEARS since that loan was paid off. TD Auto Finance is located in  Maine and I have never transacted business with them. I requested a supervisor call me to discuss the \" balance due '' on 15, and 1 week has passed with no response despite the  calls I have placed to their \" customer service department '' I find it very concerning and unethical that a corporation can quietly hold a \" balance due '' for more than 10 years and then demand a consumer pay. \\n</td>\n",
       "      <td>35</td>\n",
       "      <td>201</td>\n",
       "    </tr>\n",
       "    <tr>\n",
       "      <th>192083</th>\n",
       "      <td>I was offered a trial modification by my servicer - Carrington. I accepted the offer. The first payment was due in the month of . As a member of the    , I received 30 day  in the month of . None-the-less I called Carrington to make the  trial modification payment over the phone. Carrington refused to take the payment over the phone but instead demanded that I send via  . Because of my service I explained to Carrington that I would have limited access to   and I faxed my . Carrington stood firm in their unreasonableness. I was able to get to a   office on  , but Carrington refused to accept the payment because they claimed it was late. My Authorized  Party representative called Carrington on  separate occasions -  ,  , and  , 2015. The purpose of each call was to determine whether or not there was a scheduled foreclosure sale date. Each time the Authorized  Party Representative was told there was not a foreclosure sale date. Carrington completed a foreclosure sale on  , 2015. At th...</td>\n",
       "      <td>45</td>\n",
       "      <td>210</td>\n",
       "    </tr>\n",
       "    <tr>\n",
       "      <th>192137</th>\n",
       "      <td>Due to financial hardship, I have been unable to pay on  of my student loans. I have been struggling for months and have contacted the lender via email and written letters. The only response I receive is that I must contact via phone between certain hours. I have told them multiple times that is impossible due to my work schedule. They have written and offered to settle or make arrangements and when I write them back they always state they can not help unless I CALL them. It 's as if they are purposefully contributing to the default my account has now entered. They last letter I received states that default will occur on  , if I do not contact them. I checked my credit report and they had already reported default and placed with a collection agency ( 2 weeks prior to their date ). I emailed them regarding the situation and still they will not discuss anything in writing ONLY by phone. This makes no sense to me. \\nI can not consolidate the loan to another lender now that this situat...</td>\n",
       "      <td>47</td>\n",
       "      <td>201</td>\n",
       "    </tr>\n",
       "    <tr>\n",
       "      <th>192150</th>\n",
       "      <td>I accepted a credit card off for the Barclays  . The initial disclosure provided to me indicated a promotional rate of 0.00 APR on purchases ( 6 months ) and balance transfers ( for 15 months ). Upon receiving my card the disclosure provided did not reference the promotional rate on the balance transfers, therefore I called the company to discuss and was told the promotional was only on purchases. Therefore, I submitted a complaint through the bank 's website on 15. After several back and forth responses and a letter received, it was still being indicated the promotional rate is only on purchases. As already expressed this is not what was initially disclosed to me and therefore this is deceptive to me as a consumer as I made a credit decision based on the initially information provided to me that appear to be false. I have provided the link below that provided the terms and conditions of the card that included the promotional rate of balance transfers. My other concern is what othe...</td>\n",
       "      <td>49</td>\n",
       "      <td>192</td>\n",
       "    </tr>\n",
       "  </tbody>\n",
       "</table>\n",
       "</div>"
      ],
      "text/plain": [
       "                                                                                                                                                                                                                                                                                                                                                                                                                                                                                                                                                                                                                                                                                                                                                                                                                                                                                                                                                                                                                   consumer_complaint_narrative  \\\n",
       "190135  Due to inconsistencies in the amount owed that I was told by M & T Bank and the amount that was reported to the credit reporting agencies, I was advised to write a good will letter in order to address the issue and request the negative entry be removed from my credit report all together. I had a vehicle that was stolen and it was declared a total loss by insurance company. The insurance company and the GAP insurancw companypaid the outstanding balance of the loan, but I was told by M & T Bank that there was still a balance due on the loan. In good faith, without having received any proof as to why there was still a balance, I made a partial payment towards the remaining debt. I then sent the goodwill letter still offering to pay the remainder of the debt, but in exchange for the removal of the negative entry on my credit report. At one point, in  2015, per my credit monitoring agency, it showed a delinquent balance of $0.00, but when I checked my credit report again on   2015, ther...   \n",
       "191998                Around  we consolidated our loans and paid off a loan to Chrysler financial for an automotive loan. In  we applied for a lost title at our local town office in Tennessee. At this time it was made known to us that TD Financial      lien on our title. I was directed to TD financial  , then to My title Support , and back to TD financial to find that there is a \" balance due of $85.00 '' for \" charges and fees ''. I have NEVER received any notifications from , TD Auto Finance or any other representative in the TEN to TWELVE YEARS since that loan was paid off. TD Auto Finance is located in  Maine and I have never transacted business with them. I requested a supervisor call me to discuss the \" balance due '' on 15, and 1 week has passed with no response despite the  calls I have placed to their \" customer service department '' I find it very concerning and unethical that a corporation can quietly hold a \" balance due '' for more than 10 years and then demand a consumer pay. \\n   \n",
       "192083  I was offered a trial modification by my servicer - Carrington. I accepted the offer. The first payment was due in the month of . As a member of the    , I received 30 day  in the month of . None-the-less I called Carrington to make the  trial modification payment over the phone. Carrington refused to take the payment over the phone but instead demanded that I send via  . Because of my service I explained to Carrington that I would have limited access to   and I faxed my . Carrington stood firm in their unreasonableness. I was able to get to a   office on  , but Carrington refused to accept the payment because they claimed it was late. My Authorized  Party representative called Carrington on  separate occasions -  ,  , and  , 2015. The purpose of each call was to determine whether or not there was a scheduled foreclosure sale date. Each time the Authorized  Party Representative was told there was not a foreclosure sale date. Carrington completed a foreclosure sale on  , 2015. At th...   \n",
       "192137  Due to financial hardship, I have been unable to pay on  of my student loans. I have been struggling for months and have contacted the lender via email and written letters. The only response I receive is that I must contact via phone between certain hours. I have told them multiple times that is impossible due to my work schedule. They have written and offered to settle or make arrangements and when I write them back they always state they can not help unless I CALL them. It 's as if they are purposefully contributing to the default my account has now entered. They last letter I received states that default will occur on  , if I do not contact them. I checked my credit report and they had already reported default and placed with a collection agency ( 2 weeks prior to their date ). I emailed them regarding the situation and still they will not discuss anything in writing ONLY by phone. This makes no sense to me. \\nI can not consolidate the loan to another lender now that this situat...   \n",
       "192150  I accepted a credit card off for the Barclays  . The initial disclosure provided to me indicated a promotional rate of 0.00 APR on purchases ( 6 months ) and balance transfers ( for 15 months ). Upon receiving my card the disclosure provided did not reference the promotional rate on the balance transfers, therefore I called the company to discuss and was told the promotional was only on purchases. Therefore, I submitted a complaint through the bank 's website on 15. After several back and forth responses and a letter received, it was still being indicated the promotional rate is only on purchases. As already expressed this is not what was initially disclosed to me and therefore this is deceptive to me as a consumer as I made a credit decision based on the initially information provided to me that appear to be false. I have provided the link below that provided the terms and conditions of the card that included the promotional rate of balance transfers. My other concern is what othe...   \n",
       "\n",
       "        Doc_Id  word_count  \n",
       "190135       1         249  \n",
       "191998      35         201  \n",
       "192083      45         210  \n",
       "192137      47         201  \n",
       "192150      49         192  "
      ]
     },
     "execution_count": 20,
     "metadata": {},
     "output_type": "execute_result"
    }
   ],
   "source": [
    "# Removing unwanted characters\n",
    "import re\n",
    "df1['consumer_complaint_narrative'] = df1['consumer_complaint_narrative'].str.replace('X', '')\n",
    "df1['consumer_complaint_narrative'] = df1['consumer_complaint_narrative'].str.replace('{', '')\n",
    "df1['consumer_complaint_narrative'] = df1['consumer_complaint_narrative'].str.replace('}', '')\n",
    "df1['consumer_complaint_narrative'] = df1['consumer_complaint_narrative'].str.replace('/', '')\n",
    "df1.head()"
   ]
  },
  {
   "cell_type": "code",
   "execution_count": 21,
   "metadata": {},
   "outputs": [
    {
     "data": {
      "text/plain": [
       "the       61969\n",
       "I         61663\n",
       "to        55356\n",
       "and       42990\n",
       "a         33372\n",
       "my        31148\n",
       "of        24544\n",
       "that      24332\n",
       "was       21922\n",
       "they      17731\n",
       "in        17470\n",
       "have      17187\n",
       "on        16073\n",
       "not       15818\n",
       "for       15762\n",
       "is        15324\n",
       "me        13606\n",
       "with      13230\n",
       "this      12806\n",
       "credit    10081\n",
       "dtype: int64"
      ]
     },
     "execution_count": 21,
     "metadata": {},
     "output_type": "execute_result"
    }
   ],
   "source": [
    "# Top 20 most frequent words\n",
    "freq = pd.Series(' '.join(df1['consumer_complaint_narrative']).split()).value_counts()[:20]\n",
    "freq"
   ]
  },
  {
   "cell_type": "code",
   "execution_count": 22,
   "metadata": {},
   "outputs": [],
   "source": [
    "# Work with only nouns. Use NLTK to get only nouns in the corpus\n",
    "def nouns(text):\n",
    "    is_noun = lambda pos: pos[:2] == 'NN'\n",
    "    tokenized = word_tokenize(text)\n",
    "    all_nouns = [word for (word, pos) in pos_tag(tokenized) if is_noun(pos)]\n",
    "    return ' '.join(all_nouns)"
   ]
  },
  {
   "cell_type": "code",
   "execution_count": 25,
   "metadata": {},
   "outputs": [
    {
     "data": {
      "text/html": [
       "<div>\n",
       "<style scoped>\n",
       "    .dataframe tbody tr th:only-of-type {\n",
       "        vertical-align: middle;\n",
       "    }\n",
       "\n",
       "    .dataframe tbody tr th {\n",
       "        vertical-align: top;\n",
       "    }\n",
       "\n",
       "    .dataframe thead th {\n",
       "        text-align: right;\n",
       "    }\n",
       "</style>\n",
       "<table border=\"1\" class=\"dataframe\">\n",
       "  <thead>\n",
       "    <tr style=\"text-align: right;\">\n",
       "      <th></th>\n",
       "      <th>consumer_complaint_narrative</th>\n",
       "      <th>Doc_Id</th>\n",
       "      <th>word_count</th>\n",
       "      <th>data_nouns</th>\n",
       "    </tr>\n",
       "  </thead>\n",
       "  <tbody>\n",
       "    <tr>\n",
       "      <th>190135</th>\n",
       "      <td>Due to inconsistencies in the amount owed that I was told by M &amp; T Bank and the amount that was reported to the credit reporting agencies, I was advised to write a good will letter in order to address the issue and request the negative entry be removed from my credit report all together. I had a vehicle that was stolen and it was declared a total loss by insurance company. The insurance company and the GAP insurancw companypaid the outstanding balance of the loan, but I was told by M &amp; T Bank that there was still a balance due on the loan. In good faith, without having received any proof as to why there was still a balance, I made a partial payment towards the remaining debt. I then sent the goodwill letter still offering to pay the remainder of the debt, but in exchange for the removal of the negative entry on my credit report. At one point, in  2015, per my credit monitoring agency, it showed a delinquent balance of $0.00, but when I checked my credit report again on   2015, ther...</td>\n",
       "      <td>1</td>\n",
       "      <td>249</td>\n",
       "      <td>inconsistencies amount M T Bank amount credit reporting agencies letter order issue entry credit report vehicle loss insurance company insurance company GAP insurancw balance loan M T Bank balance loan faith proof balance payment debt goodwill letter remainder debt exchange removal entry credit report point credit monitoring agency balance credit report balance monies GAP insurance insurance company M T Bank M T Bank return mail courtesy response</td>\n",
       "    </tr>\n",
       "    <tr>\n",
       "      <th>191998</th>\n",
       "      <td>Around  we consolidated our loans and paid off a loan to Chrysler financial for an automotive loan. In  we applied for a lost title at our local town office in Tennessee. At this time it was made known to us that TD Financial      lien on our title. I was directed to TD financial  , then to My title Support , and back to TD financial to find that there is a \" balance due of $85.00 '' for \" charges and fees ''. I have NEVER received any notifications from , TD Auto Finance or any other representative in the TEN to TWELVE YEARS since that loan was paid off. TD Auto Finance is located in  Maine and I have never transacted business with them. I requested a supervisor call me to discuss the \" balance due '' on 15, and 1 week has passed with no response despite the  calls I have placed to their \" customer service department '' I find it very concerning and unethical that a corporation can quietly hold a \" balance due '' for more than 10 years and then demand a consumer pay. \\n</td>\n",
       "      <td>35</td>\n",
       "      <td>201</td>\n",
       "      <td>loans loan Chrysler loan title town office Tennessee time TD Financial lien title TD My title Support TD balance charges fees NEVER notifications TD Auto Finance representative TEN TWELVE YEARS loan TD Auto Finance Maine business supervisor call balance week response calls customer service department corporation balance years consumer pay</td>\n",
       "    </tr>\n",
       "    <tr>\n",
       "      <th>192083</th>\n",
       "      <td>I was offered a trial modification by my servicer - Carrington. I accepted the offer. The first payment was due in the month of . As a member of the    , I received 30 day  in the month of . None-the-less I called Carrington to make the  trial modification payment over the phone. Carrington refused to take the payment over the phone but instead demanded that I send via  . Because of my service I explained to Carrington that I would have limited access to   and I faxed my . Carrington stood firm in their unreasonableness. I was able to get to a   office on  , but Carrington refused to accept the payment because they claimed it was late. My Authorized  Party representative called Carrington on  separate occasions -  ,  , and  , 2015. The purpose of each call was to determine whether or not there was a scheduled foreclosure sale date. Each time the Authorized  Party Representative was told there was not a foreclosure sale date. Carrington completed a foreclosure sale on  , 2015. At th...</td>\n",
       "      <td>45</td>\n",
       "      <td>210</td>\n",
       "      <td>trial modification servicer Carrington offer payment month member day month None-the-less Carrington trial modification payment phone Carrington payment phone service Carrington access Carrington firm unreasonableness office Carrington payment My Authorized Party representative Carrington occasions purpose call foreclosure sale date time Authorized Party Representative foreclosure sale date Carrington foreclosure sale time foreclosure sale</td>\n",
       "    </tr>\n",
       "    <tr>\n",
       "      <th>192137</th>\n",
       "      <td>Due to financial hardship, I have been unable to pay on  of my student loans. I have been struggling for months and have contacted the lender via email and written letters. The only response I receive is that I must contact via phone between certain hours. I have told them multiple times that is impossible due to my work schedule. They have written and offered to settle or make arrangements and when I write them back they always state they can not help unless I CALL them. It 's as if they are purposefully contributing to the default my account has now entered. They last letter I received states that default will occur on  , if I do not contact them. I checked my credit report and they had already reported default and placed with a collection agency ( 2 weeks prior to their date ). I emailed them regarding the situation and still they will not discuss anything in writing ONLY by phone. This makes no sense to me. \\nI can not consolidate the loan to another lender now that this situat...</td>\n",
       "      <td>47</td>\n",
       "      <td>201</td>\n",
       "      <td>hardship student loans months lender email letters response phone hours times work schedule arrangements state default account letter states default credit report default collection agency weeks date situation anything ONLY phone sense loan lender situation credit report</td>\n",
       "    </tr>\n",
       "    <tr>\n",
       "      <th>192150</th>\n",
       "      <td>I accepted a credit card off for the Barclays  . The initial disclosure provided to me indicated a promotional rate of 0.00 APR on purchases ( 6 months ) and balance transfers ( for 15 months ). Upon receiving my card the disclosure provided did not reference the promotional rate on the balance transfers, therefore I called the company to discuss and was told the promotional was only on purchases. Therefore, I submitted a complaint through the bank 's website on 15. After several back and forth responses and a letter received, it was still being indicated the promotional rate is only on purchases. As already expressed this is not what was initially disclosed to me and therefore this is deceptive to me as a consumer as I made a credit decision based on the initially information provided to me that appear to be false. I have provided the link below that provided the terms and conditions of the card that included the promotional rate of balance transfers. My other concern is what othe...</td>\n",
       "      <td>49</td>\n",
       "      <td>192</td>\n",
       "      <td>credit card Barclays disclosure rate APR purchases months balance transfers months card disclosure rate balance transfers therefore company promotional purchases complaint bank website responses letter rate purchases consumer credit decision information link terms conditions card rate balance transfers concern practices bank https www.barclaycardus.comapplyLanding.action www.barclaycardus.comappjapplylpTnCs.jsp</td>\n",
       "    </tr>\n",
       "  </tbody>\n",
       "</table>\n",
       "</div>"
      ],
      "text/plain": [
       "                                                                                                                                                                                                                                                                                                                                                                                                                                                                                                                                                                                                                                                                                                                                                                                                                                                                                                                                                                                                                   consumer_complaint_narrative  \\\n",
       "190135  Due to inconsistencies in the amount owed that I was told by M & T Bank and the amount that was reported to the credit reporting agencies, I was advised to write a good will letter in order to address the issue and request the negative entry be removed from my credit report all together. I had a vehicle that was stolen and it was declared a total loss by insurance company. The insurance company and the GAP insurancw companypaid the outstanding balance of the loan, but I was told by M & T Bank that there was still a balance due on the loan. In good faith, without having received any proof as to why there was still a balance, I made a partial payment towards the remaining debt. I then sent the goodwill letter still offering to pay the remainder of the debt, but in exchange for the removal of the negative entry on my credit report. At one point, in  2015, per my credit monitoring agency, it showed a delinquent balance of $0.00, but when I checked my credit report again on   2015, ther...   \n",
       "191998                Around  we consolidated our loans and paid off a loan to Chrysler financial for an automotive loan. In  we applied for a lost title at our local town office in Tennessee. At this time it was made known to us that TD Financial      lien on our title. I was directed to TD financial  , then to My title Support , and back to TD financial to find that there is a \" balance due of $85.00 '' for \" charges and fees ''. I have NEVER received any notifications from , TD Auto Finance or any other representative in the TEN to TWELVE YEARS since that loan was paid off. TD Auto Finance is located in  Maine and I have never transacted business with them. I requested a supervisor call me to discuss the \" balance due '' on 15, and 1 week has passed with no response despite the  calls I have placed to their \" customer service department '' I find it very concerning and unethical that a corporation can quietly hold a \" balance due '' for more than 10 years and then demand a consumer pay. \\n   \n",
       "192083  I was offered a trial modification by my servicer - Carrington. I accepted the offer. The first payment was due in the month of . As a member of the    , I received 30 day  in the month of . None-the-less I called Carrington to make the  trial modification payment over the phone. Carrington refused to take the payment over the phone but instead demanded that I send via  . Because of my service I explained to Carrington that I would have limited access to   and I faxed my . Carrington stood firm in their unreasonableness. I was able to get to a   office on  , but Carrington refused to accept the payment because they claimed it was late. My Authorized  Party representative called Carrington on  separate occasions -  ,  , and  , 2015. The purpose of each call was to determine whether or not there was a scheduled foreclosure sale date. Each time the Authorized  Party Representative was told there was not a foreclosure sale date. Carrington completed a foreclosure sale on  , 2015. At th...   \n",
       "192137  Due to financial hardship, I have been unable to pay on  of my student loans. I have been struggling for months and have contacted the lender via email and written letters. The only response I receive is that I must contact via phone between certain hours. I have told them multiple times that is impossible due to my work schedule. They have written and offered to settle or make arrangements and when I write them back they always state they can not help unless I CALL them. It 's as if they are purposefully contributing to the default my account has now entered. They last letter I received states that default will occur on  , if I do not contact them. I checked my credit report and they had already reported default and placed with a collection agency ( 2 weeks prior to their date ). I emailed them regarding the situation and still they will not discuss anything in writing ONLY by phone. This makes no sense to me. \\nI can not consolidate the loan to another lender now that this situat...   \n",
       "192150  I accepted a credit card off for the Barclays  . The initial disclosure provided to me indicated a promotional rate of 0.00 APR on purchases ( 6 months ) and balance transfers ( for 15 months ). Upon receiving my card the disclosure provided did not reference the promotional rate on the balance transfers, therefore I called the company to discuss and was told the promotional was only on purchases. Therefore, I submitted a complaint through the bank 's website on 15. After several back and forth responses and a letter received, it was still being indicated the promotional rate is only on purchases. As already expressed this is not what was initially disclosed to me and therefore this is deceptive to me as a consumer as I made a credit decision based on the initially information provided to me that appear to be false. I have provided the link below that provided the terms and conditions of the card that included the promotional rate of balance transfers. My other concern is what othe...   \n",
       "\n",
       "        Doc_Id  word_count  \\\n",
       "190135       1         249   \n",
       "191998      35         201   \n",
       "192083      45         210   \n",
       "192137      47         201   \n",
       "192150      49         192   \n",
       "\n",
       "                                                                                                                                                                                                                                                                                                                                                                                                                                                                data_nouns  \n",
       "190135  inconsistencies amount M T Bank amount credit reporting agencies letter order issue entry credit report vehicle loss insurance company insurance company GAP insurancw balance loan M T Bank balance loan faith proof balance payment debt goodwill letter remainder debt exchange removal entry credit report point credit monitoring agency balance credit report balance monies GAP insurance insurance company M T Bank M T Bank return mail courtesy response  \n",
       "191998                                                                                                                loans loan Chrysler loan title town office Tennessee time TD Financial lien title TD My title Support TD balance charges fees NEVER notifications TD Auto Finance representative TEN TWELVE YEARS loan TD Auto Finance Maine business supervisor call balance week response calls customer service department corporation balance years consumer pay  \n",
       "192083         trial modification servicer Carrington offer payment month member day month None-the-less Carrington trial modification payment phone Carrington payment phone service Carrington access Carrington firm unreasonableness office Carrington payment My Authorized Party representative Carrington occasions purpose call foreclosure sale date time Authorized Party Representative foreclosure sale date Carrington foreclosure sale time foreclosure sale  \n",
       "192137                                                                                                                                                                                     hardship student loans months lender email letters response phone hours times work schedule arrangements state default account letter states default credit report default collection agency weeks date situation anything ONLY phone sense loan lender situation credit report  \n",
       "192150                                      credit card Barclays disclosure rate APR purchases months balance transfers months card disclosure rate balance transfers therefore company promotional purchases complaint bank website responses letter rate purchases consumer credit decision information link terms conditions card rate balance transfers concern practices bank https www.barclaycardus.comapplyLanding.action www.barclaycardus.comappjapplylpTnCs.jsp  "
      ]
     },
     "execution_count": 25,
     "metadata": {},
     "output_type": "execute_result"
    }
   ],
   "source": [
    "df1['data_nouns'] = pd.DataFrame(df1.consumer_complaint_narrative.apply(nouns))\n",
    "df1.head()"
   ]
  },
  {
   "cell_type": "code",
   "execution_count": 26,
   "metadata": {},
   "outputs": [],
   "source": [
    "# Further cleaning, removing stopwords, lemmatizing\n",
    "import re\n",
    "temp =[]\n",
    "my_stop_words = text.ENGLISH_STOP_WORDS\n",
    "\n",
    "from nltk.stem import WordNetLemmatizer\n",
    "lemmatizer = WordNetLemmatizer()\n",
    "\n",
    "for sentence in df1['data_nouns']:\n",
    "    sentence = sentence.lower()\n",
    "    cleaner = re.compile('<.*?>')\n",
    "    sentence = re.sub(cleaner, ' ', sentence)  # Remove html tags\n",
    "    sentence = re.sub(r'[?|!|\\'|\"|#]',r'',sentence)\n",
    "    sentence = re.sub(r'[.|,|)|(|\\|/]',r' ',sentence) # removing puntuations\n",
    "    \n",
    "    words = [lemmatizer.lemmatize(word) for word in sentence.split() if word not in my_stop_words] # removing stopwords and lemm\n",
    "    temp.append(words)\n",
    "    \n",
    "final_X = temp"
   ]
  },
  {
   "cell_type": "code",
   "execution_count": 27,
   "metadata": {},
   "outputs": [
    {
     "data": {
      "text/plain": [
       "[['inconsistency',\n",
       "  'm',\n",
       "  't',\n",
       "  'bank',\n",
       "  'credit',\n",
       "  'reporting',\n",
       "  'agency',\n",
       "  'letter',\n",
       "  'order',\n",
       "  'issue',\n",
       "  'entry',\n",
       "  'credit',\n",
       "  'report',\n",
       "  'vehicle',\n",
       "  'loss',\n",
       "  'insurance',\n",
       "  'company',\n",
       "  'insurance',\n",
       "  'company',\n",
       "  'gap',\n",
       "  'insurancw',\n",
       "  'balance',\n",
       "  'loan',\n",
       "  'm',\n",
       "  't',\n",
       "  'bank',\n",
       "  'balance',\n",
       "  'loan',\n",
       "  'faith',\n",
       "  'proof',\n",
       "  'balance',\n",
       "  'payment',\n",
       "  'debt',\n",
       "  'goodwill',\n",
       "  'letter',\n",
       "  'remainder',\n",
       "  'debt',\n",
       "  'exchange',\n",
       "  'removal',\n",
       "  'entry',\n",
       "  'credit',\n",
       "  'report',\n",
       "  'point',\n",
       "  'credit',\n",
       "  'monitoring',\n",
       "  'agency',\n",
       "  'balance',\n",
       "  'credit',\n",
       "  'report',\n",
       "  'balance',\n",
       "  'monies',\n",
       "  'gap',\n",
       "  'insurance',\n",
       "  'insurance',\n",
       "  'company',\n",
       "  'm',\n",
       "  't',\n",
       "  'bank',\n",
       "  'm',\n",
       "  't',\n",
       "  'bank',\n",
       "  'return',\n",
       "  'mail',\n",
       "  'courtesy',\n",
       "  'response'],\n",
       " ['loan',\n",
       "  'loan',\n",
       "  'chrysler',\n",
       "  'loan',\n",
       "  'title',\n",
       "  'town',\n",
       "  'office',\n",
       "  'tennessee',\n",
       "  'time',\n",
       "  'td',\n",
       "  'financial',\n",
       "  'lien',\n",
       "  'title',\n",
       "  'td',\n",
       "  'title',\n",
       "  'support',\n",
       "  'td',\n",
       "  'balance',\n",
       "  'charge',\n",
       "  'fee',\n",
       "  'notification',\n",
       "  'td',\n",
       "  'auto',\n",
       "  'finance',\n",
       "  'representative',\n",
       "  'year',\n",
       "  'loan',\n",
       "  'td',\n",
       "  'auto',\n",
       "  'finance',\n",
       "  'maine',\n",
       "  'business',\n",
       "  'supervisor',\n",
       "  'balance',\n",
       "  'week',\n",
       "  'response',\n",
       "  'call',\n",
       "  'customer',\n",
       "  'service',\n",
       "  'department',\n",
       "  'corporation',\n",
       "  'balance',\n",
       "  'year',\n",
       "  'consumer',\n",
       "  'pay']]"
      ]
     },
     "execution_count": 27,
     "metadata": {},
     "output_type": "execute_result"
    }
   ],
   "source": [
    "final_X[:2]"
   ]
  },
  {
   "cell_type": "code",
   "execution_count": 28,
   "metadata": {},
   "outputs": [],
   "source": [
    "sent = []\n",
    "for row in final_X:\n",
    "    sequ = ''\n",
    "    for word in row:\n",
    "        sequ = sequ + ' ' + word\n",
    "    sent.append(sequ)\n",
    "final_X = sent"
   ]
  },
  {
   "cell_type": "code",
   "execution_count": 29,
   "metadata": {},
   "outputs": [
    {
     "name": "stdout",
     "output_type": "stream",
     "text": [
      "[' inconsistency m t bank credit reporting agency letter order issue entry credit report vehicle loss insurance company insurance company gap insurancw balance loan m t bank balance loan faith proof balance payment debt goodwill letter remainder debt exchange removal entry credit report point credit monitoring agency balance credit report balance monies gap insurance insurance company m t bank m t bank return mail courtesy response', ' loan loan chrysler loan title town office tennessee time td financial lien title td title support td balance charge fee notification td auto finance representative year loan td auto finance maine business supervisor balance week response call customer service department corporation balance year consumer pay']\n"
     ]
    }
   ],
   "source": [
    "print(final_X[:2])"
   ]
  },
  {
   "cell_type": "code",
   "execution_count": 30,
   "metadata": {},
   "outputs": [
    {
     "data": {
      "text/html": [
       "<div>\n",
       "<style scoped>\n",
       "    .dataframe tbody tr th:only-of-type {\n",
       "        vertical-align: middle;\n",
       "    }\n",
       "\n",
       "    .dataframe tbody tr th {\n",
       "        vertical-align: top;\n",
       "    }\n",
       "\n",
       "    .dataframe thead th {\n",
       "        text-align: right;\n",
       "    }\n",
       "</style>\n",
       "<table border=\"1\" class=\"dataframe\">\n",
       "  <thead>\n",
       "    <tr style=\"text-align: right;\">\n",
       "      <th></th>\n",
       "      <th>consumer_complaint_narrative</th>\n",
       "      <th>Doc_Id</th>\n",
       "      <th>word_count</th>\n",
       "      <th>data_nouns</th>\n",
       "      <th>cleaned</th>\n",
       "    </tr>\n",
       "  </thead>\n",
       "  <tbody>\n",
       "    <tr>\n",
       "      <th>190135</th>\n",
       "      <td>Due to inconsistencies in the amount owed that I was told by M &amp; T Bank and the amount that was reported to the credit reporting agencies, I was advised to write a good will letter in order to address the issue and request the negative entry be removed from my credit report all together. I had a vehicle that was stolen and it was declared a total loss by insurance company. The insurance company and the GAP insurancw companypaid the outstanding balance of the loan, but I was told by M &amp; T Bank that there was still a balance due on the loan. In good faith, without having received any proof as to why there was still a balance, I made a partial payment towards the remaining debt. I then sent the goodwill letter still offering to pay the remainder of the debt, but in exchange for the removal of the negative entry on my credit report. At one point, in  2015, per my credit monitoring agency, it showed a delinquent balance of $0.00, but when I checked my credit report again on   2015, ther...</td>\n",
       "      <td>1</td>\n",
       "      <td>249</td>\n",
       "      <td>inconsistencies amount M T Bank amount credit reporting agencies letter order issue entry credit report vehicle loss insurance company insurance company GAP insurancw balance loan M T Bank balance loan faith proof balance payment debt goodwill letter remainder debt exchange removal entry credit report point credit monitoring agency balance credit report balance monies GAP insurance insurance company M T Bank M T Bank return mail courtesy response</td>\n",
       "      <td>inconsistency m t bank credit reporting agency letter order issue entry credit report vehicle loss insurance company insurance company gap insurancw balance loan m t bank balance loan faith proof balance payment debt goodwill letter remainder debt exchange removal entry credit report point credit monitoring agency balance credit report balance monies gap insurance insurance company m t bank m t bank return mail courtesy response</td>\n",
       "    </tr>\n",
       "    <tr>\n",
       "      <th>191998</th>\n",
       "      <td>Around  we consolidated our loans and paid off a loan to Chrysler financial for an automotive loan. In  we applied for a lost title at our local town office in Tennessee. At this time it was made known to us that TD Financial      lien on our title. I was directed to TD financial  , then to My title Support , and back to TD financial to find that there is a \" balance due of $85.00 '' for \" charges and fees ''. I have NEVER received any notifications from , TD Auto Finance or any other representative in the TEN to TWELVE YEARS since that loan was paid off. TD Auto Finance is located in  Maine and I have never transacted business with them. I requested a supervisor call me to discuss the \" balance due '' on 15, and 1 week has passed with no response despite the  calls I have placed to their \" customer service department '' I find it very concerning and unethical that a corporation can quietly hold a \" balance due '' for more than 10 years and then demand a consumer pay. \\n</td>\n",
       "      <td>35</td>\n",
       "      <td>201</td>\n",
       "      <td>loans loan Chrysler loan title town office Tennessee time TD Financial lien title TD My title Support TD balance charges fees NEVER notifications TD Auto Finance representative TEN TWELVE YEARS loan TD Auto Finance Maine business supervisor call balance week response calls customer service department corporation balance years consumer pay</td>\n",
       "      <td>loan loan chrysler loan title town office tennessee time td financial lien title td title support td balance charge fee notification td auto finance representative year loan td auto finance maine business supervisor balance week response call customer service department corporation balance year consumer pay</td>\n",
       "    </tr>\n",
       "    <tr>\n",
       "      <th>192083</th>\n",
       "      <td>I was offered a trial modification by my servicer - Carrington. I accepted the offer. The first payment was due in the month of . As a member of the    , I received 30 day  in the month of . None-the-less I called Carrington to make the  trial modification payment over the phone. Carrington refused to take the payment over the phone but instead demanded that I send via  . Because of my service I explained to Carrington that I would have limited access to   and I faxed my . Carrington stood firm in their unreasonableness. I was able to get to a   office on  , but Carrington refused to accept the payment because they claimed it was late. My Authorized  Party representative called Carrington on  separate occasions -  ,  , and  , 2015. The purpose of each call was to determine whether or not there was a scheduled foreclosure sale date. Each time the Authorized  Party Representative was told there was not a foreclosure sale date. Carrington completed a foreclosure sale on  , 2015. At th...</td>\n",
       "      <td>45</td>\n",
       "      <td>210</td>\n",
       "      <td>trial modification servicer Carrington offer payment month member day month None-the-less Carrington trial modification payment phone Carrington payment phone service Carrington access Carrington firm unreasonableness office Carrington payment My Authorized Party representative Carrington occasions purpose call foreclosure sale date time Authorized Party Representative foreclosure sale date Carrington foreclosure sale time foreclosure sale</td>\n",
       "      <td>trial modification servicer carrington offer payment month member day month none-the-less carrington trial modification payment phone carrington payment phone service carrington access carrington firm unreasonableness office carrington payment authorized party representative carrington occasion purpose foreclosure sale date time authorized party representative foreclosure sale date carrington foreclosure sale time foreclosure sale</td>\n",
       "    </tr>\n",
       "    <tr>\n",
       "      <th>192137</th>\n",
       "      <td>Due to financial hardship, I have been unable to pay on  of my student loans. I have been struggling for months and have contacted the lender via email and written letters. The only response I receive is that I must contact via phone between certain hours. I have told them multiple times that is impossible due to my work schedule. They have written and offered to settle or make arrangements and when I write them back they always state they can not help unless I CALL them. It 's as if they are purposefully contributing to the default my account has now entered. They last letter I received states that default will occur on  , if I do not contact them. I checked my credit report and they had already reported default and placed with a collection agency ( 2 weeks prior to their date ). I emailed them regarding the situation and still they will not discuss anything in writing ONLY by phone. This makes no sense to me. \\nI can not consolidate the loan to another lender now that this situat...</td>\n",
       "      <td>47</td>\n",
       "      <td>201</td>\n",
       "      <td>hardship student loans months lender email letters response phone hours times work schedule arrangements state default account letter states default credit report default collection agency weeks date situation anything ONLY phone sense loan lender situation credit report</td>\n",
       "      <td>hardship student loan month lender email letter response phone hour time work schedule arrangement state default account letter state default credit report default collection agency week date situation phone sense loan lender situation credit report</td>\n",
       "    </tr>\n",
       "    <tr>\n",
       "      <th>192150</th>\n",
       "      <td>I accepted a credit card off for the Barclays  . The initial disclosure provided to me indicated a promotional rate of 0.00 APR on purchases ( 6 months ) and balance transfers ( for 15 months ). Upon receiving my card the disclosure provided did not reference the promotional rate on the balance transfers, therefore I called the company to discuss and was told the promotional was only on purchases. Therefore, I submitted a complaint through the bank 's website on 15. After several back and forth responses and a letter received, it was still being indicated the promotional rate is only on purchases. As already expressed this is not what was initially disclosed to me and therefore this is deceptive to me as a consumer as I made a credit decision based on the initially information provided to me that appear to be false. I have provided the link below that provided the terms and conditions of the card that included the promotional rate of balance transfers. My other concern is what othe...</td>\n",
       "      <td>49</td>\n",
       "      <td>192</td>\n",
       "      <td>credit card Barclays disclosure rate APR purchases months balance transfers months card disclosure rate balance transfers therefore company promotional purchases complaint bank website responses letter rate purchases consumer credit decision information link terms conditions card rate balance transfers concern practices bank https www.barclaycardus.comapplyLanding.action www.barclaycardus.comappjapplylpTnCs.jsp</td>\n",
       "      <td>credit card barclays disclosure rate apr purchase month balance transfer month card disclosure rate balance transfer company promotional purchase complaint bank website response letter rate purchase consumer credit decision information link term condition card rate balance transfer concern practice bank http www barclaycardus comapplylanding action www barclaycardus comappjapplylptncs jsp</td>\n",
       "    </tr>\n",
       "  </tbody>\n",
       "</table>\n",
       "</div>"
      ],
      "text/plain": [
       "                                                                                                                                                                                                                                                                                                                                                                                                                                                                                                                                                                                                                                                                                                                                                                                                                                                                                                                                                                                                                   consumer_complaint_narrative  \\\n",
       "190135  Due to inconsistencies in the amount owed that I was told by M & T Bank and the amount that was reported to the credit reporting agencies, I was advised to write a good will letter in order to address the issue and request the negative entry be removed from my credit report all together. I had a vehicle that was stolen and it was declared a total loss by insurance company. The insurance company and the GAP insurancw companypaid the outstanding balance of the loan, but I was told by M & T Bank that there was still a balance due on the loan. In good faith, without having received any proof as to why there was still a balance, I made a partial payment towards the remaining debt. I then sent the goodwill letter still offering to pay the remainder of the debt, but in exchange for the removal of the negative entry on my credit report. At one point, in  2015, per my credit monitoring agency, it showed a delinquent balance of $0.00, but when I checked my credit report again on   2015, ther...   \n",
       "191998                Around  we consolidated our loans and paid off a loan to Chrysler financial for an automotive loan. In  we applied for a lost title at our local town office in Tennessee. At this time it was made known to us that TD Financial      lien on our title. I was directed to TD financial  , then to My title Support , and back to TD financial to find that there is a \" balance due of $85.00 '' for \" charges and fees ''. I have NEVER received any notifications from , TD Auto Finance or any other representative in the TEN to TWELVE YEARS since that loan was paid off. TD Auto Finance is located in  Maine and I have never transacted business with them. I requested a supervisor call me to discuss the \" balance due '' on 15, and 1 week has passed with no response despite the  calls I have placed to their \" customer service department '' I find it very concerning and unethical that a corporation can quietly hold a \" balance due '' for more than 10 years and then demand a consumer pay. \\n   \n",
       "192083  I was offered a trial modification by my servicer - Carrington. I accepted the offer. The first payment was due in the month of . As a member of the    , I received 30 day  in the month of . None-the-less I called Carrington to make the  trial modification payment over the phone. Carrington refused to take the payment over the phone but instead demanded that I send via  . Because of my service I explained to Carrington that I would have limited access to   and I faxed my . Carrington stood firm in their unreasonableness. I was able to get to a   office on  , but Carrington refused to accept the payment because they claimed it was late. My Authorized  Party representative called Carrington on  separate occasions -  ,  , and  , 2015. The purpose of each call was to determine whether or not there was a scheduled foreclosure sale date. Each time the Authorized  Party Representative was told there was not a foreclosure sale date. Carrington completed a foreclosure sale on  , 2015. At th...   \n",
       "192137  Due to financial hardship, I have been unable to pay on  of my student loans. I have been struggling for months and have contacted the lender via email and written letters. The only response I receive is that I must contact via phone between certain hours. I have told them multiple times that is impossible due to my work schedule. They have written and offered to settle or make arrangements and when I write them back they always state they can not help unless I CALL them. It 's as if they are purposefully contributing to the default my account has now entered. They last letter I received states that default will occur on  , if I do not contact them. I checked my credit report and they had already reported default and placed with a collection agency ( 2 weeks prior to their date ). I emailed them regarding the situation and still they will not discuss anything in writing ONLY by phone. This makes no sense to me. \\nI can not consolidate the loan to another lender now that this situat...   \n",
       "192150  I accepted a credit card off for the Barclays  . The initial disclosure provided to me indicated a promotional rate of 0.00 APR on purchases ( 6 months ) and balance transfers ( for 15 months ). Upon receiving my card the disclosure provided did not reference the promotional rate on the balance transfers, therefore I called the company to discuss and was told the promotional was only on purchases. Therefore, I submitted a complaint through the bank 's website on 15. After several back and forth responses and a letter received, it was still being indicated the promotional rate is only on purchases. As already expressed this is not what was initially disclosed to me and therefore this is deceptive to me as a consumer as I made a credit decision based on the initially information provided to me that appear to be false. I have provided the link below that provided the terms and conditions of the card that included the promotional rate of balance transfers. My other concern is what othe...   \n",
       "\n",
       "        Doc_Id  word_count  \\\n",
       "190135       1         249   \n",
       "191998      35         201   \n",
       "192083      45         210   \n",
       "192137      47         201   \n",
       "192150      49         192   \n",
       "\n",
       "                                                                                                                                                                                                                                                                                                                                                                                                                                                                data_nouns  \\\n",
       "190135  inconsistencies amount M T Bank amount credit reporting agencies letter order issue entry credit report vehicle loss insurance company insurance company GAP insurancw balance loan M T Bank balance loan faith proof balance payment debt goodwill letter remainder debt exchange removal entry credit report point credit monitoring agency balance credit report balance monies GAP insurance insurance company M T Bank M T Bank return mail courtesy response   \n",
       "191998                                                                                                                loans loan Chrysler loan title town office Tennessee time TD Financial lien title TD My title Support TD balance charges fees NEVER notifications TD Auto Finance representative TEN TWELVE YEARS loan TD Auto Finance Maine business supervisor call balance week response calls customer service department corporation balance years consumer pay   \n",
       "192083         trial modification servicer Carrington offer payment month member day month None-the-less Carrington trial modification payment phone Carrington payment phone service Carrington access Carrington firm unreasonableness office Carrington payment My Authorized Party representative Carrington occasions purpose call foreclosure sale date time Authorized Party Representative foreclosure sale date Carrington foreclosure sale time foreclosure sale   \n",
       "192137                                                                                                                                                                                     hardship student loans months lender email letters response phone hours times work schedule arrangements state default account letter states default credit report default collection agency weeks date situation anything ONLY phone sense loan lender situation credit report   \n",
       "192150                                      credit card Barclays disclosure rate APR purchases months balance transfers months card disclosure rate balance transfers therefore company promotional purchases complaint bank website responses letter rate purchases consumer credit decision information link terms conditions card rate balance transfers concern practices bank https www.barclaycardus.comapplyLanding.action www.barclaycardus.comappjapplylpTnCs.jsp   \n",
       "\n",
       "                                                                                                                                                                                                                                                                                                                                                                                                                                                    cleaned  \n",
       "190135     inconsistency m t bank credit reporting agency letter order issue entry credit report vehicle loss insurance company insurance company gap insurancw balance loan m t bank balance loan faith proof balance payment debt goodwill letter remainder debt exchange removal entry credit report point credit monitoring agency balance credit report balance monies gap insurance insurance company m t bank m t bank return mail courtesy response  \n",
       "191998                                                                                                                                 loan loan chrysler loan title town office tennessee time td financial lien title td title support td balance charge fee notification td auto finance representative year loan td auto finance maine business supervisor balance week response call customer service department corporation balance year consumer pay  \n",
       "192083   trial modification servicer carrington offer payment month member day month none-the-less carrington trial modification payment phone carrington payment phone service carrington access carrington firm unreasonableness office carrington payment authorized party representative carrington occasion purpose foreclosure sale date time authorized party representative foreclosure sale date carrington foreclosure sale time foreclosure sale  \n",
       "192137                                                                                                                                                                                            hardship student loan month lender email letter response phone hour time work schedule arrangement state default account letter state default credit report default collection agency week date situation phone sense loan lender situation credit report  \n",
       "192150                                              credit card barclays disclosure rate apr purchase month balance transfer month card disclosure rate balance transfer company promotional purchase complaint bank website response letter rate purchase consumer credit decision information link term condition card rate balance transfer concern practice bank http www barclaycardus comapplylanding action www barclaycardus comappjapplylptncs jsp  "
      ]
     },
     "execution_count": 30,
     "metadata": {},
     "output_type": "execute_result"
    }
   ],
   "source": [
    "# remove unwanted characters, numbers and symbols \n",
    "df1['cleaned'] = final_X\n",
    "df1.head()"
   ]
  },
  {
   "cell_type": "code",
   "execution_count": 31,
   "metadata": {},
   "outputs": [],
   "source": [
    "# save for use later\n",
    "df1.to_pickle('data_prep.pkl')"
   ]
  },
  {
   "cell_type": "code",
   "execution_count": null,
   "metadata": {},
   "outputs": [],
   "source": []
  }
 ],
 "metadata": {
  "kernelspec": {
   "display_name": "Python 3",
   "language": "python",
   "name": "python3"
  },
  "language_info": {
   "codemirror_mode": {
    "name": "ipython",
    "version": 3
   },
   "file_extension": ".py",
   "mimetype": "text/x-python",
   "name": "python",
   "nbconvert_exporter": "python",
   "pygments_lexer": "ipython3",
   "version": "3.7.3"
  }
 },
 "nbformat": 4,
 "nbformat_minor": 2
}

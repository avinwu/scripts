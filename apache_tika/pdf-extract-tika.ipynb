{
 "cells": [
  {
   "cell_type": "markdown",
   "metadata": {},
   "source": [
    "# Tika Parser"
   ]
  },
  {
   "cell_type": "code",
   "execution_count": 21,
   "metadata": {},
   "outputs": [],
   "source": [
    "from tika import parser"
   ]
  },
  {
   "cell_type": "code",
   "execution_count": 22,
   "metadata": {},
   "outputs": [],
   "source": [
    "parsedPDF = parser.from_file(\"numpy.pdf\")"
   ]
  },
  {
   "cell_type": "code",
   "execution_count": 40,
   "metadata": {},
   "outputs": [
    {
     "data": {
      "text/plain": [
       "dict_keys(['status', 'content', 'metadata'])"
      ]
     },
     "execution_count": 40,
     "metadata": {},
     "output_type": "execute_result"
    }
   ],
   "source": [
    "parsedPDF.keys()"
   ]
  },
  {
   "cell_type": "code",
   "execution_count": 15,
   "metadata": {},
   "outputs": [
    {
     "data": {
      "text/plain": [
       "{'Author': 'M Scott Shell',\n",
       " 'Content-Type': 'application/pdf',\n",
       " 'Creation-Date': '2014-06-17T11:08:35Z',\n",
       " 'Last-Modified': '2014-06-17T11:08:35Z',\n",
       " 'Last-Save-Date': '2014-06-17T11:08:35Z',\n",
       " 'X-Parsed-By': ['org.apache.tika.parser.DefaultParser',\n",
       "  'org.apache.tika.parser.pdf.PDFParser'],\n",
       " 'X-TIKA:parse_time_millis': '537',\n",
       " 'access_permission:assemble_document': 'true',\n",
       " 'access_permission:can_modify': 'true',\n",
       " 'access_permission:can_print': 'true',\n",
       " 'access_permission:can_print_degraded': 'true',\n",
       " 'access_permission:extract_content': 'true',\n",
       " 'access_permission:extract_for_accessibility': 'true',\n",
       " 'access_permission:fill_in_form': 'true',\n",
       " 'access_permission:modify_annotations': 'true',\n",
       " 'created': '2014-06-17T11:08:35Z',\n",
       " 'creator': 'M Scott Shell',\n",
       " 'date': '2014-06-17T11:08:35Z',\n",
       " 'dc:creator': 'M Scott Shell',\n",
       " 'dc:format': 'application/pdf; version=1.5',\n",
       " 'dc:language': 'en-US',\n",
       " 'dcterms:created': '2014-06-17T11:08:35Z',\n",
       " 'dcterms:modified': '2014-06-17T11:08:35Z',\n",
       " 'language': 'en-US',\n",
       " 'meta:author': 'M Scott Shell',\n",
       " 'meta:creation-date': '2014-06-17T11:08:35Z',\n",
       " 'meta:save-date': '2014-06-17T11:08:35Z',\n",
       " 'modified': '2014-06-17T11:08:35Z',\n",
       " 'pdf:PDFVersion': '1.5',\n",
       " 'pdf:docinfo:created': '2014-06-17T11:08:35Z',\n",
       " 'pdf:docinfo:creator': 'M Scott Shell',\n",
       " 'pdf:docinfo:creator_tool': 'Microsoft® Word 2010',\n",
       " 'pdf:docinfo:modified': '2014-06-17T11:08:35Z',\n",
       " 'pdf:docinfo:producer': 'Microsoft® Word 2010',\n",
       " 'pdf:encrypted': 'false',\n",
       " 'producer': 'Microsoft® Word 2010',\n",
       " 'resourceName': 'numpy.pdf',\n",
       " 'xmp:CreatorTool': 'Microsoft® Word 2010',\n",
       " 'xmpTPg:NPages': '24'}"
      ]
     },
     "execution_count": 15,
     "metadata": {},
     "output_type": "execute_result"
    }
   ],
   "source": [
    "parsedPDF[\"metadata\"]"
   ]
  },
  {
   "cell_type": "code",
   "execution_count": 17,
   "metadata": {},
   "outputs": [],
   "source": [
    "parsedPDF[\"content\"]"
   ]
  },
  {
   "cell_type": "code",
   "execution_count": 24,
   "metadata": {},
   "outputs": [],
   "source": [
    "text = parsedPDF[\"content\"]\n",
    "f=open('numpy_tika.txt','w')\n",
    "f.write(text)\n",
    "f.close()"
   ]
  },
  {
   "cell_type": "markdown",
   "metadata": {},
   "source": [
    "# Language Detection Interface"
   ]
  },
  {
   "cell_type": "code",
   "execution_count": 32,
   "metadata": {},
   "outputs": [],
   "source": [
    "from tika import language"
   ]
  },
  {
   "cell_type": "code",
   "execution_count": 52,
   "metadata": {},
   "outputs": [
    {
     "name": "stdout",
     "output_type": "stream",
     "text": [
      "en\n"
     ]
    }
   ],
   "source": [
    "print(language.from_file('eng.txt'))"
   ]
  },
  {
   "cell_type": "code",
   "execution_count": 53,
   "metadata": {},
   "outputs": [
    {
     "name": "stdout",
     "output_type": "stream",
     "text": [
      "es\n"
     ]
    }
   ],
   "source": [
    "print(language.from_file('esp.txt'))"
   ]
  },
  {
   "cell_type": "code",
   "execution_count": 54,
   "metadata": {},
   "outputs": [
    {
     "name": "stdout",
     "output_type": "stream",
     "text": [
      "en\n"
     ]
    }
   ],
   "source": [
    "print(language.from_buffer('hello this is abhijit'))"
   ]
  },
  {
   "cell_type": "code",
   "execution_count": 55,
   "metadata": {},
   "outputs": [
    {
     "name": "stdout",
     "output_type": "stream",
     "text": [
      "es\n"
     ]
    }
   ],
   "source": [
    "print(language.from_buffer('hola esto es abhijit'))"
   ]
  },
  {
   "cell_type": "code",
   "execution_count": 56,
   "metadata": {},
   "outputs": [
    {
     "name": "stdout",
     "output_type": "stream",
     "text": [
      "hi\n"
     ]
    }
   ],
   "source": [
    "print(language.from_buffer('हैलो यह अभिजीत है'))"
   ]
  },
  {
   "cell_type": "markdown",
   "metadata": {},
   "source": [
    "# Translate Interface"
   ]
  },
  {
   "cell_type": "code",
   "execution_count": 58,
   "metadata": {},
   "outputs": [],
   "source": [
    "from tika import translate"
   ]
  },
  {
   "cell_type": "code",
   "execution_count": 59,
   "metadata": {},
   "outputs": [
    {
     "name": "stdout",
     "output_type": "stream",
     "text": [
      "Me llamo José Martín y tengo diecisiete años. Soy de Madrid y estudio segundo de Bachillerato.\n",
      "\n",
      "Vivo con mi familia, formada por mi padre, mi madre, mi abuela y mi hermano mayor.\n",
      "\n"
     ]
    }
   ],
   "source": [
    "print(translate.from_file('esp.txt', 'es', 'en'))"
   ]
  },
  {
   "cell_type": "code",
   "execution_count": 60,
   "metadata": {},
   "outputs": [
    {
     "data": {
      "text/plain": [
       "'Hola! Mi nombre es Chris Mattmann.'"
      ]
     },
     "execution_count": 60,
     "metadata": {},
     "output_type": "execute_result"
    }
   ],
   "source": [
    "translate.from_buffer('Hola! Mi nombre es Chris Mattmann.', 'es', 'en')"
   ]
  },
  {
   "cell_type": "code",
   "execution_count": 61,
   "metadata": {},
   "outputs": [
    {
     "data": {
      "text/plain": [
       "'हैलो यह अभिजीत है'"
      ]
     },
     "execution_count": 61,
     "metadata": {},
     "output_type": "execute_result"
    }
   ],
   "source": [
    "translate.from_buffer('हैलो यह अभिजीत है', 'hi', 'en')"
   ]
  },
  {
   "cell_type": "code",
   "execution_count": 72,
   "metadata": {},
   "outputs": [
    {
     "name": "stdout",
     "output_type": "stream",
     "text": [
      "\r\n"
     ]
    }
   ],
   "source": [
    "!echo $$TIKA_PATH"
   ]
  },
  {
   "cell_type": "markdown",
   "metadata": {},
   "source": [
    "# References:\n",
    "- https://github.com/chrismattmann/tika-python\n",
    "- https://github.com/chrismattmann/tika-python/issues/199\n",
    "    "
   ]
  },
  {
   "cell_type": "code",
   "execution_count": null,
   "metadata": {},
   "outputs": [],
   "source": []
  }
 ],
 "metadata": {
  "kernelspec": {
   "display_name": "Python 3",
   "language": "python",
   "name": "python3"
  },
  "language_info": {
   "codemirror_mode": {
    "name": "ipython",
    "version": 3
   },
   "file_extension": ".py",
   "mimetype": "text/x-python",
   "name": "python",
   "nbconvert_exporter": "python",
   "pygments_lexer": "ipython3",
   "version": "3.7.3"
  }
 },
 "nbformat": 4,
 "nbformat_minor": 2
}
